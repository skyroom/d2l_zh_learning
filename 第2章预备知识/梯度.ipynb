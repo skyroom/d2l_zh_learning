{
 "cells": [
  {
   "cell_type": "code",
   "execution_count": 5,
   "id": "85d06dda",
   "metadata": {},
   "outputs": [],
   "source": [
    "import torch"
   ]
  },
  {
   "cell_type": "code",
   "execution_count": 6,
   "id": "1766ac30",
   "metadata": {},
   "outputs": [
    {
     "data": {
      "text/plain": [
       "tensor([0., 1., 2., 3.], requires_grad=True)"
      ]
     },
     "execution_count": 6,
     "metadata": {},
     "output_type": "execute_result"
    }
   ],
   "source": [
    "x = torch.arange(4.0)\n",
    "x.requires_grad_(True)"
   ]
  },
  {
   "cell_type": "code",
   "execution_count": 7,
   "id": "0e303e93",
   "metadata": {},
   "outputs": [
    {
     "data": {
      "text/plain": [
       "tensor([0., 1., 2., 3.], requires_grad=True)"
      ]
     },
     "execution_count": 7,
     "metadata": {},
     "output_type": "execute_result"
    }
   ],
   "source": [
    "x"
   ]
  },
  {
   "cell_type": "code",
   "execution_count": 8,
   "id": "065e2903",
   "metadata": {},
   "outputs": [],
   "source": [
    "y = x * x\n",
    "u = y.detach()\n",
    "z = u * x"
   ]
  },
  {
   "cell_type": "code",
   "execution_count": 9,
   "id": "1c44c911",
   "metadata": {},
   "outputs": [
    {
     "data": {
      "text/plain": [
       "tensor([True, True, True, True])"
      ]
     },
     "execution_count": 9,
     "metadata": {},
     "output_type": "execute_result"
    }
   ],
   "source": [
    "z.sum().backward()\n",
    "x.grad == u"
   ]
  },
  {
   "cell_type": "code",
   "execution_count": 10,
   "id": "e1893b71",
   "metadata": {},
   "outputs": [
    {
     "data": {
      "text/plain": [
       "tensor([0., 1., 4., 9.])"
      ]
     },
     "execution_count": 10,
     "metadata": {},
     "output_type": "execute_result"
    }
   ],
   "source": [
    "x.grad"
   ]
  },
  {
   "cell_type": "code",
   "execution_count": 11,
   "id": "3d415a14",
   "metadata": {},
   "outputs": [
    {
     "data": {
      "text/plain": [
       "tensor([0., 1., 2., 3.], requires_grad=True)"
      ]
     },
     "execution_count": 11,
     "metadata": {},
     "output_type": "execute_result"
    }
   ],
   "source": [
    "x = torch.arange(4.0)\n",
    "x.requires_grad_(True)"
   ]
  },
  {
   "cell_type": "code",
   "execution_count": 12,
   "id": "eaccbab1",
   "metadata": {},
   "outputs": [],
   "source": [
    "y = x * x"
   ]
  },
  {
   "cell_type": "code",
   "execution_count": 13,
   "id": "7e43ab99",
   "metadata": {},
   "outputs": [
    {
     "data": {
      "text/plain": [
       "tensor([0., 1., 4., 9.], grad_fn=<MulBackward0>)"
      ]
     },
     "execution_count": 13,
     "metadata": {},
     "output_type": "execute_result"
    }
   ],
   "source": [
    "y"
   ]
  },
  {
   "cell_type": "code",
   "execution_count": 14,
   "id": "e3feb7ef",
   "metadata": {},
   "outputs": [],
   "source": [
    "def f(a):\n",
    "    b = a * 2\n",
    "    while b.norm() < 1000:\n",
    "        b = b * 2\n",
    "    if b.sum() > 0:\n",
    "        c = b\n",
    "    else:\n",
    "        c = 100 * b\n",
    "    return c"
   ]
  },
  {
   "cell_type": "code",
   "execution_count": 15,
   "id": "954a561a",
   "metadata": {},
   "outputs": [],
   "source": [
    "a = torch.randn(size=(), requires_grad=True)\n",
    "d = f(a)\n",
    "d.backward()"
   ]
  },
  {
   "cell_type": "code",
   "execution_count": 16,
   "id": "897ca855",
   "metadata": {},
   "outputs": [
    {
     "data": {
      "text/plain": [
       "tensor(204800.)"
      ]
     },
     "execution_count": 16,
     "metadata": {},
     "output_type": "execute_result"
    }
   ],
   "source": [
    "a.grad"
   ]
  },
  {
   "cell_type": "code",
   "execution_count": 17,
   "id": "2321bb02",
   "metadata": {},
   "outputs": [
    {
     "data": {
      "text/plain": [
       "tensor(0.8017, grad_fn=<LinalgVectorNormBackward0>)"
      ]
     },
     "execution_count": 17,
     "metadata": {},
     "output_type": "execute_result"
    }
   ],
   "source": [
    "a.norm()"
   ]
  },
  {
   "cell_type": "code",
   "execution_count": 18,
   "id": "cf3f2d63",
   "metadata": {},
   "outputs": [
    {
     "data": {
      "text/plain": [
       "tensor([-0.0943,  0.3759, -0.3346,  0.1955], requires_grad=True)"
      ]
     },
     "execution_count": 18,
     "metadata": {},
     "output_type": "execute_result"
    }
   ],
   "source": [
    "a = torch.randn(4, requires_grad=True)\n",
    "d = f(a)\n",
    "a"
   ]
  },
  {
   "cell_type": "code",
   "execution_count": 19,
   "id": "58d585ac",
   "metadata": {},
   "outputs": [],
   "source": [
    "import numpy as np\n",
    "from matplotlib import pyplot as plt"
   ]
  },
  {
   "cell_type": "code",
   "execution_count": 20,
   "id": "b1b5f639",
   "metadata": {
    "scrolled": true
   },
   "outputs": [
    {
     "data": {
      "text/plain": [
       "tensor([0.0100, 0.0200, 0.0300, 0.0400, 0.0500, 0.0600, 0.0700, 0.0800, 0.0900,\n",
       "        0.1000, 0.1100, 0.1200, 0.1300, 0.1400, 0.1500, 0.1600, 0.1700, 0.1800,\n",
       "        0.1900, 0.2000, 0.2100, 0.2200, 0.2300, 0.2400, 0.2500, 0.2600, 0.2700,\n",
       "        0.2800, 0.2900, 0.3000, 0.3100, 0.3200, 0.3300, 0.3400, 0.3500, 0.3600,\n",
       "        0.3700, 0.3800, 0.3900, 0.4000, 0.4100, 0.4200, 0.4300, 0.4400, 0.4500,\n",
       "        0.4600, 0.4700, 0.4800, 0.4900, 0.5000, 0.5100, 0.5200, 0.5300, 0.5400,\n",
       "        0.5500, 0.5600, 0.5700, 0.5800, 0.5900, 0.6000, 0.6100, 0.6200, 0.6300,\n",
       "        0.6400, 0.6500, 0.6600, 0.6700, 0.6800, 0.6900, 0.7000, 0.7100, 0.7200,\n",
       "        0.7300, 0.7400, 0.7500, 0.7600, 0.7700, 0.7800, 0.7900, 0.8000, 0.8100,\n",
       "        0.8200, 0.8300, 0.8400, 0.8500, 0.8600, 0.8700, 0.8800, 0.8900, 0.9000,\n",
       "        0.9100, 0.9200, 0.9300, 0.9400, 0.9500, 0.9600, 0.9700, 0.9800, 0.9900,\n",
       "        1.0000, 1.0100, 1.0200, 1.0300, 1.0400, 1.0500, 1.0600, 1.0700, 1.0800,\n",
       "        1.0900, 1.1000, 1.1100, 1.1200, 1.1300, 1.1400, 1.1500, 1.1600, 1.1700,\n",
       "        1.1800, 1.1900, 1.2000, 1.2100, 1.2200, 1.2300, 1.2400, 1.2500, 1.2600,\n",
       "        1.2700, 1.2800, 1.2900, 1.3000, 1.3100, 1.3200, 1.3300, 1.3400, 1.3500,\n",
       "        1.3600, 1.3700, 1.3800, 1.3900, 1.4000, 1.4100, 1.4200, 1.4300, 1.4400,\n",
       "        1.4500, 1.4600, 1.4700, 1.4800, 1.4900, 1.5000, 1.5100, 1.5200, 1.5300,\n",
       "        1.5400, 1.5500, 1.5600, 1.5700, 1.5800, 1.5900, 1.6000, 1.6100, 1.6200,\n",
       "        1.6300, 1.6400, 1.6500, 1.6600, 1.6700, 1.6800, 1.6900, 1.7000, 1.7100,\n",
       "        1.7200, 1.7300, 1.7400, 1.7500, 1.7600, 1.7700, 1.7800, 1.7900, 1.8000,\n",
       "        1.8100, 1.8200, 1.8300, 1.8400, 1.8500, 1.8600, 1.8700, 1.8800, 1.8900,\n",
       "        1.9000, 1.9100, 1.9200, 1.9300, 1.9400, 1.9500, 1.9600, 1.9700, 1.9800,\n",
       "        1.9900, 2.0000, 2.0100, 2.0200, 2.0300, 2.0400, 2.0500, 2.0600, 2.0700,\n",
       "        2.0800, 2.0900, 2.1000, 2.1100, 2.1200, 2.1300, 2.1400, 2.1500, 2.1600,\n",
       "        2.1700, 2.1800, 2.1900, 2.2000, 2.2100, 2.2200, 2.2300, 2.2400, 2.2500,\n",
       "        2.2600, 2.2700, 2.2800, 2.2900, 2.3000, 2.3100, 2.3200, 2.3300, 2.3400,\n",
       "        2.3500, 2.3600, 2.3700, 2.3800, 2.3900, 2.4000, 2.4100, 2.4200, 2.4300,\n",
       "        2.4400, 2.4500, 2.4600, 2.4700, 2.4800, 2.4900, 2.5000, 2.5100, 2.5200,\n",
       "        2.5300, 2.5400, 2.5500, 2.5600, 2.5700, 2.5800, 2.5900, 2.6000, 2.6100,\n",
       "        2.6200, 2.6300, 2.6400, 2.6500, 2.6600, 2.6700, 2.6800, 2.6900, 2.7000,\n",
       "        2.7100, 2.7200, 2.7300, 2.7400, 2.7500, 2.7600, 2.7700, 2.7800, 2.7900,\n",
       "        2.8000, 2.8100, 2.8200, 2.8300, 2.8400, 2.8500, 2.8600, 2.8700, 2.8800,\n",
       "        2.8900, 2.9000, 2.9100, 2.9200, 2.9300, 2.9400, 2.9500, 2.9600, 2.9700,\n",
       "        2.9800, 2.9900, 3.0000, 3.0100, 3.0200, 3.0300, 3.0400, 3.0500, 3.0600,\n",
       "        3.0700, 3.0800, 3.0900, 3.1000, 3.1100, 3.1200, 3.1300, 3.1400, 3.1500,\n",
       "        3.1600, 3.1700, 3.1800, 3.1900, 3.2000, 3.2100, 3.2200, 3.2300, 3.2400,\n",
       "        3.2500, 3.2600, 3.2700, 3.2800, 3.2900, 3.3000, 3.3100, 3.3200, 3.3300,\n",
       "        3.3400, 3.3500, 3.3600, 3.3700, 3.3800, 3.3900, 3.4000, 3.4100, 3.4200,\n",
       "        3.4300, 3.4400, 3.4500, 3.4600, 3.4700, 3.4800, 3.4900, 3.5000, 3.5100,\n",
       "        3.5200, 3.5300, 3.5400, 3.5500, 3.5600, 3.5700, 3.5800, 3.5900, 3.6000,\n",
       "        3.6100, 3.6200, 3.6300, 3.6400, 3.6500, 3.6600, 3.6700, 3.6800, 3.6900,\n",
       "        3.7000, 3.7100, 3.7200, 3.7300, 3.7400, 3.7500, 3.7600, 3.7700, 3.7800,\n",
       "        3.7900, 3.8000, 3.8100, 3.8200, 3.8300, 3.8400, 3.8500, 3.8600, 3.8700,\n",
       "        3.8800, 3.8900, 3.9000, 3.9100, 3.9200, 3.9300, 3.9400, 3.9500, 3.9600,\n",
       "        3.9700, 3.9800, 3.9900, 4.0000, 4.0100, 4.0200, 4.0300, 4.0400, 4.0500,\n",
       "        4.0600, 4.0700, 4.0800, 4.0900, 4.1000, 4.1100, 4.1200, 4.1300, 4.1400,\n",
       "        4.1500, 4.1600, 4.1700, 4.1800, 4.1900, 4.2000, 4.2100, 4.2200, 4.2300,\n",
       "        4.2400, 4.2500, 4.2600, 4.2700, 4.2800, 4.2900, 4.3000, 4.3100, 4.3200,\n",
       "        4.3300, 4.3400, 4.3500, 4.3600, 4.3700, 4.3800, 4.3900, 4.4000, 4.4100,\n",
       "        4.4200, 4.4300, 4.4400, 4.4500, 4.4600, 4.4700, 4.4800, 4.4900, 4.5000,\n",
       "        4.5100, 4.5200, 4.5300, 4.5400, 4.5500, 4.5600, 4.5700, 4.5800, 4.5900,\n",
       "        4.6000, 4.6100, 4.6200, 4.6300, 4.6400, 4.6500, 4.6600, 4.6700, 4.6800,\n",
       "        4.6900, 4.7000, 4.7100, 4.7200, 4.7300, 4.7400, 4.7500, 4.7600, 4.7700,\n",
       "        4.7800, 4.7900, 4.8000, 4.8100, 4.8200, 4.8300, 4.8400, 4.8500, 4.8600,\n",
       "        4.8700, 4.8800, 4.8900, 4.9000, 4.9100, 4.9200, 4.9300, 4.9400, 4.9500,\n",
       "        4.9600, 4.9700, 4.9800, 4.9900, 5.0000, 5.0100, 5.0200, 5.0300, 5.0400,\n",
       "        5.0500, 5.0600, 5.0700, 5.0800, 5.0900, 5.1000, 5.1100, 5.1200, 5.1300,\n",
       "        5.1400, 5.1500, 5.1600, 5.1700, 5.1800, 5.1900, 5.2000, 5.2100, 5.2200,\n",
       "        5.2300, 5.2400, 5.2500, 5.2600, 5.2700, 5.2800, 5.2900, 5.3000, 5.3100,\n",
       "        5.3200, 5.3300, 5.3400, 5.3500, 5.3600, 5.3700, 5.3800, 5.3900, 5.4000,\n",
       "        5.4100, 5.4200, 5.4300, 5.4400, 5.4500, 5.4600, 5.4700, 5.4800, 5.4900,\n",
       "        5.5000, 5.5100, 5.5200, 5.5300, 5.5400, 5.5500, 5.5600, 5.5700, 5.5800,\n",
       "        5.5900, 5.6000, 5.6100, 5.6200, 5.6300, 5.6400, 5.6500, 5.6600, 5.6700,\n",
       "        5.6800, 5.6900, 5.7000, 5.7100, 5.7200, 5.7300, 5.7400, 5.7500, 5.7600,\n",
       "        5.7700, 5.7800, 5.7900, 5.8000, 5.8100, 5.8200, 5.8300, 5.8400, 5.8500,\n",
       "        5.8600, 5.8700, 5.8800, 5.8900, 5.9000, 5.9100, 5.9200, 5.9300, 5.9400,\n",
       "        5.9500, 5.9600, 5.9700, 5.9800, 5.9900, 6.0000, 6.0100, 6.0200, 6.0300,\n",
       "        6.0400, 6.0500, 6.0600, 6.0700, 6.0800, 6.0900, 6.1000, 6.1100, 6.1200,\n",
       "        6.1300, 6.1400, 6.1500, 6.1600, 6.1700, 6.1800, 6.1900, 6.2000, 6.2100,\n",
       "        6.2200, 6.2300, 6.2400, 6.2500, 6.2600, 6.2700, 6.2800, 6.2900, 6.3000,\n",
       "        6.3100, 6.3200, 6.3300, 6.3400, 6.3500, 6.3600, 6.3700, 6.3800, 6.3900,\n",
       "        6.4000, 6.4100, 6.4200, 6.4300, 6.4400, 6.4500, 6.4600, 6.4700, 6.4800,\n",
       "        6.4900, 6.5000, 6.5100, 6.5200, 6.5300, 6.5400, 6.5500, 6.5600, 6.5700,\n",
       "        6.5800, 6.5900, 6.6000, 6.6100, 6.6200, 6.6300, 6.6400, 6.6500, 6.6600,\n",
       "        6.6700, 6.6800, 6.6900, 6.7000, 6.7100, 6.7200, 6.7300, 6.7400, 6.7500,\n",
       "        6.7600, 6.7700, 6.7800, 6.7900, 6.8000, 6.8100, 6.8200, 6.8300, 6.8400,\n",
       "        6.8500, 6.8600, 6.8700, 6.8800, 6.8900, 6.9000, 6.9100, 6.9200, 6.9300,\n",
       "        6.9400, 6.9500, 6.9600, 6.9700, 6.9800, 6.9900, 7.0000, 7.0100, 7.0200,\n",
       "        7.0300, 7.0400, 7.0500, 7.0600, 7.0700, 7.0800, 7.0900, 7.1000, 7.1100,\n",
       "        7.1200, 7.1300, 7.1400, 7.1500, 7.1600, 7.1700, 7.1800, 7.1900, 7.2000,\n",
       "        7.2100, 7.2200, 7.2300, 7.2400, 7.2500, 7.2600, 7.2700, 7.2800, 7.2900,\n",
       "        7.3000, 7.3100, 7.3200, 7.3300, 7.3400, 7.3500, 7.3600, 7.3700, 7.3800,\n",
       "        7.3900, 7.4000, 7.4100, 7.4200, 7.4300, 7.4400, 7.4500, 7.4600, 7.4700,\n",
       "        7.4800, 7.4900, 7.5000, 7.5100, 7.5200, 7.5300, 7.5400, 7.5500, 7.5600,\n",
       "        7.5700, 7.5800, 7.5900, 7.6000, 7.6100, 7.6200, 7.6300, 7.6400, 7.6500,\n",
       "        7.6600, 7.6700, 7.6800, 7.6900, 7.7000, 7.7100, 7.7200, 7.7300, 7.7400,\n",
       "        7.7500, 7.7600, 7.7700, 7.7800, 7.7900, 7.8000, 7.8100, 7.8200, 7.8300,\n",
       "        7.8400, 7.8500, 7.8600, 7.8700, 7.8800, 7.8900, 7.9000, 7.9100, 7.9200,\n",
       "        7.9300, 7.9400, 7.9500, 7.9600, 7.9700, 7.9800, 7.9900, 8.0000, 8.0100,\n",
       "        8.0200, 8.0300, 8.0400, 8.0500, 8.0600, 8.0700, 8.0800, 8.0900, 8.1000,\n",
       "        8.1100, 8.1200, 8.1300, 8.1400, 8.1500, 8.1600, 8.1700, 8.1800, 8.1900,\n",
       "        8.2000, 8.2100, 8.2200, 8.2300, 8.2400, 8.2500, 8.2600, 8.2700, 8.2800,\n",
       "        8.2900, 8.3000, 8.3100, 8.3200, 8.3300, 8.3400, 8.3500, 8.3600, 8.3700,\n",
       "        8.3800, 8.3900, 8.4000, 8.4100, 8.4200, 8.4300, 8.4400, 8.4500, 8.4600,\n",
       "        8.4700, 8.4800, 8.4900, 8.5000, 8.5100, 8.5200, 8.5300, 8.5400, 8.5500,\n",
       "        8.5600, 8.5700, 8.5800, 8.5900, 8.6000, 8.6100, 8.6200, 8.6300, 8.6400,\n",
       "        8.6500, 8.6600, 8.6700, 8.6800, 8.6900, 8.7000, 8.7100, 8.7200, 8.7300,\n",
       "        8.7400, 8.7500, 8.7600, 8.7700, 8.7800, 8.7900, 8.8000, 8.8100, 8.8200,\n",
       "        8.8300, 8.8400, 8.8500, 8.8600, 8.8700, 8.8800, 8.8900, 8.9000, 8.9100,\n",
       "        8.9200, 8.9300, 8.9400, 8.9500, 8.9600, 8.9700, 8.9800, 8.9900, 9.0000,\n",
       "        9.0100, 9.0200, 9.0300, 9.0400, 9.0500, 9.0600, 9.0700, 9.0800, 9.0900,\n",
       "        9.1000, 9.1100, 9.1200, 9.1300, 9.1400, 9.1500, 9.1600, 9.1700, 9.1800,\n",
       "        9.1900, 9.2000, 9.2100, 9.2200, 9.2300, 9.2400, 9.2500, 9.2600, 9.2700,\n",
       "        9.2800, 9.2900, 9.3000, 9.3100, 9.3200, 9.3300, 9.3400, 9.3500, 9.3600,\n",
       "        9.3700, 9.3800, 9.3900, 9.4000, 9.4100, 9.4200, 9.4300, 9.4400, 9.4500,\n",
       "        9.4600, 9.4700, 9.4800, 9.4900, 9.5000, 9.5100, 9.5200, 9.5300, 9.5400,\n",
       "        9.5500, 9.5600, 9.5700, 9.5800, 9.5900, 9.6000, 9.6100, 9.6200, 9.6300,\n",
       "        9.6400, 9.6500, 9.6600, 9.6700, 9.6800, 9.6900, 9.7000, 9.7100, 9.7200,\n",
       "        9.7300, 9.7400, 9.7500, 9.7600, 9.7700, 9.7800, 9.7900, 9.8000, 9.8100,\n",
       "        9.8200, 9.8300, 9.8400, 9.8500, 9.8600, 9.8700, 9.8800, 9.8900, 9.9000,\n",
       "        9.9100, 9.9200, 9.9300, 9.9400, 9.9500, 9.9600, 9.9700, 9.9800, 9.9900],\n",
       "       requires_grad=True)"
      ]
     },
     "execution_count": 20,
     "metadata": {},
     "output_type": "execute_result"
    }
   ],
   "source": [
    "x = torch.arange(0.01, 10.0, 0.01)\n",
    "x.requires_grad_(True)"
   ]
  },
  {
   "cell_type": "code",
   "execution_count": 21,
   "id": "47becf11",
   "metadata": {},
   "outputs": [],
   "source": [
    "y = torch.sin(x)"
   ]
  },
  {
   "cell_type": "code",
   "execution_count": 22,
   "id": "98b9507e",
   "metadata": {},
   "outputs": [
    {
     "data": {
      "image/png": "[encoded data removed]",
      "text/plain": [
       "<Figure size 640x480 with 1 Axes>"
      ]
     },
     "metadata": {},
     "output_type": "display_data"
    }
   ],
   "source": [
    "plt.figure()\n",
    "plt.plot(x.detach().numpy(),y.detach().numpy())\n",
    "plt.show()"
   ]
  },
  {
   "cell_type": "code",
   "execution_count": 23,
   "id": "6b7df88b",
   "metadata": {},
   "outputs": [],
   "source": [
    "y.sum().backward()"
   ]
  },
  {
   "cell_type": "code",
   "execution_count": null,
   "id": "b431da87",
   "metadata": {
    "scrolled": true
   },
   "outputs": [],
   "source": [
    "x.grad"
   ]
  },
  {
   "cell_type": "code",
   "execution_count": null,
   "id": "0aa12780",
   "metadata": {
    "scrolled": false
   },
   "outputs": [],
   "source": [
    "plt.figure()\n",
    "plt.plot(x.detach().numpy(),x.grad)\n",
    "plt.show()"
   ]
  },
  {
   "cell_type": "code",
   "execution_count": null,
   "id": "a68b12af",
   "metadata": {},
   "outputs": [],
   "source": [
    "fig = plt.figure()\n",
    "ax1 = fig.add_subplot(211)\n",
    "ax1.plot(x.detach().numpy(),y.detach().numpy())\n",
    "\n",
    "ax2 = fig.add_subplot(212)\n",
    "ax2.plot(x.detach().numpy(),x.grad)\n",
    "\n",
    "plt.show()"
   ]
  },
  {
   "cell_type": "code",
   "execution_count": null,
   "id": "ee633cfd",
   "metadata": {},
   "outputs": [],
   "source": [
    "def get_function(x):\n",
    "    return np.sin(x)\n",
    "\n",
    "def get_d(f,x):\n",
    "    h=1e-4\n",
    "    return (f(x+h)-f(x))/h\n",
    "\n",
    "x = np.arange(0.01, 10.0, 0.01)\n",
    "y = get_function(x)\n",
    "y_d = get_d(get_function, x)\n",
    "plt.plot(x,y)\n",
    "plt.plot(x,y_d)\n",
    "plt.show()"
   ]
  },
  {
   "cell_type": "code",
   "execution_count": null,
   "id": "b33b725c",
   "metadata": {},
   "outputs": [],
   "source": [
    "fig = plt.figure()\n",
    "\n",
    "plt.plot(x.detach().numpy(),y.detach().numpy())\n",
    "\n",
    "plt.plot(x.detach().numpy(),x.grad)\n",
    "\n",
    "plt.show()"
   ]
  }
 ],
 "metadata": {
  "kernelspec": {
   "display_name": "pytorch-cpu",
   "language": "python",
   "name": "pytorch-cpu"
  },
  "language_info": {
   "codemirror_mode": {
    "name": "ipython",
    "version": 3
   },
   "file_extension": ".py",
   "mimetype": "text/x-python",
   "name": "python",
   "nbconvert_exporter": "python",
   "pygments_lexer": "ipython3",
   "version": "3.9.16"
  },
  "toc": {
   "base_numbering": 1,
   "nav_menu": {},
   "number_sections": true,
   "sideBar": true,
   "skip_h1_title": false,
   "title_cell": "Table of Contents",
   "title_sidebar": "Contents",
   "toc_cell": false,
   "toc_position": {},
   "toc_section_display": true,
   "toc_window_display": false
  }
 },
 "nbformat": 4,
 "nbformat_minor": 5
}
