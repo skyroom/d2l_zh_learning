{
 "cells": [
  {
   "cell_type": "code",
   "execution_count": 1,
   "id": "4fc8c868",
   "metadata": {},
   "outputs": [],
   "source": [
    "import torch\n",
    "from torch import nn\n",
    "from d2l import torch as d2l"
   ]
  },
  {
   "cell_type": "markdown",
   "id": "f0e86a7c",
   "metadata": {},
   "source": [
    "## 导入数据"
   ]
  },
  {
   "cell_type": "code",
   "execution_count": 2,
   "id": "8e924d9b",
   "metadata": {},
   "outputs": [],
   "source": [
    "batch_size = 256\n",
    "train_iter, test_iter = d2l.load_data_fashion_mnist(batch_size)"
   ]
  },
  {
   "cell_type": "markdown",
   "id": "3d09ea1e",
   "metadata": {},
   "source": [
    "## 初始化参数"
   ]
  },
  {
   "cell_type": "code",
   "execution_count": 3,
   "id": "82de0867",
   "metadata": {},
   "outputs": [],
   "source": [
    "num_inputs, num_outputs, num_hiddens = 784, 10, 256\n",
    "num_epochs, lr = 800, 0.1\n",
    "\n",
    "W1 = nn.Parameter(torch.randn(\n",
    "    num_inputs, num_hiddens, requires_grad=True) * 0.01)\n",
    "b1 = nn.Parameter(torch.zeros(num_hiddens, requires_grad=True))\n",
    "W2 = nn.Parameter(torch.randn(\n",
    "    num_hiddens, num_outputs, requires_grad=True) * 0.01)\n",
    "b2 = nn.Parameter(torch.zeros(num_outputs, requires_grad=True))\n",
    "\n",
    "params = [W1, b1, W2, b2]"
   ]
  },
  {
   "cell_type": "markdown",
   "id": "1d0be87f",
   "metadata": {},
   "source": [
    "## 激活函数"
   ]
  },
  {
   "cell_type": "code",
   "execution_count": 4,
   "id": "56182612",
   "metadata": {},
   "outputs": [],
   "source": [
    "def Relu(X):\n",
    "    a = torch.zeros_like(X)\n",
    "    return torch.max(X, a)"
   ]
  },
  {
   "cell_type": "markdown",
   "id": "127bb64b",
   "metadata": {},
   "source": [
    "## 损失函数"
   ]
  },
  {
   "cell_type": "code",
   "execution_count": 5,
   "id": "a06b9f83",
   "metadata": {},
   "outputs": [],
   "source": [
    "loss = nn.CrossEntropyLoss(reduction='sum')"
   ]
  },
  {
   "cell_type": "markdown",
   "id": "e0b61c52",
   "metadata": {},
   "source": [
    "## 模型"
   ]
  },
  {
   "cell_type": "code",
   "execution_count": 6,
   "id": "1bb2e9ff",
   "metadata": {},
   "outputs": [],
   "source": [
    "def Net(X):\n",
    "    X = X.reshape(-1, num_inputs)\n",
    "    a = Relu(X @ W1 + b1)\n",
    "    return (a @ W2 + b2)"
   ]
  },
  {
   "cell_type": "markdown",
   "id": "a12a1058",
   "metadata": {},
   "source": [
    "## 优化算法"
   ]
  },
  {
   "cell_type": "code",
   "execution_count": 7,
   "id": "454eebd7",
   "metadata": {},
   "outputs": [],
   "source": [
    "updater = torch.optim.SGD(params, lr=lr)"
   ]
  },
  {
   "cell_type": "markdown",
   "id": "85c332fc",
   "metadata": {},
   "source": [
    "## 计算精度"
   ]
  },
  {
   "cell_type": "code",
   "execution_count": 8,
   "id": "08ebd83e",
   "metadata": {},
   "outputs": [],
   "source": [
    "def accuracy(y_hat, y):\n",
    "    com = y_hat.argmax(axis=1) == y\n",
    "    return com.sum() / len(y)"
   ]
  },
  {
   "cell_type": "markdown",
   "id": "3e94a122",
   "metadata": {},
   "source": [
    "## 训练"
   ]
  },
  {
   "cell_type": "code",
   "execution_count": null,
   "id": "76692d20",
   "metadata": {},
   "outputs": [],
   "source": [
    "for epoch in range(num_epochs):\n",
    "    for X,y in train_iter:\n",
    "        l = loss(Net(X), y)\n",
    "        updater.zero_grad()\n",
    "        l.backward()\n",
    "        updater.step()"
   ]
  },
  {
   "cell_type": "markdown",
   "id": "91dc9d66",
   "metadata": {},
   "source": [
    "## 预测"
   ]
  },
  {
   "cell_type": "code",
   "execution_count": null,
   "id": "1a179f97",
   "metadata": {},
   "outputs": [],
   "source": [
    "for X,y in test_iter:\n",
    "    y_hat = Net(X)\n",
    "    print(accuracy(y_hat, y))"
   ]
  }
 ],
 "metadata": {
  "kernelspec": {
   "display_name": "Python 3 (ipykernel)",
   "language": "python",
   "name": "python3"
  },
  "language_info": {
   "codemirror_mode": {
    "name": "ipython",
    "version": 3
   },
   "file_extension": ".py",
   "mimetype": "text/x-python",
   "name": "python",
   "nbconvert_exporter": "python",
   "pygments_lexer": "ipython3",
   "version": "3.9.16"
  }
 },
 "nbformat": 4,
 "nbformat_minor": 5
}
