{
 "cells": [
  {
   "cell_type": "code",
   "execution_count": 1,
   "id": "0d6dfdb5",
   "metadata": {},
   "outputs": [],
   "source": [
    "import torch\n",
    "from IPython import display\n",
    "from d2l import torch as d2l\n",
    "import numpy as np"
   ]
  },
  {
   "cell_type": "markdown",
   "id": "6074a6ac",
   "metadata": {},
   "source": [
    "## softmax回归从零开始实现"
   ]
  },
  {
   "cell_type": "markdown",
   "id": "d24a6108",
   "metadata": {},
   "source": [
    "### 拿到数据  数据是一个迭代器"
   ]
  },
  {
   "cell_type": "code",
   "execution_count": 2,
   "id": "48ce33f2",
   "metadata": {},
   "outputs": [],
   "source": [
    "batch_size = 256\n",
    "train_iter, test_iter = d2l.load_data_fashion_mnist(batch_size)"
   ]
  },
  {
   "cell_type": "markdown",
   "id": "140b1f2f",
   "metadata": {},
   "source": [
    "### 定义超参数"
   ]
  },
  {
   "cell_type": "code",
   "execution_count": 3,
   "id": "d04c7b9b",
   "metadata": {},
   "outputs": [],
   "source": [
    "# 超参数\n",
    "num_epochs = 10\n",
    "lr = 0.1"
   ]
  },
  {
   "cell_type": "markdown",
   "id": "d4c48e19",
   "metadata": {},
   "source": [
    "### 初始化模型参数"
   ]
  },
  {
   "cell_type": "code",
   "execution_count": 4,
   "id": "8ad6819a",
   "metadata": {},
   "outputs": [],
   "source": [
    "# 初始化模型参数\n",
    "num_inputs = 784\n",
    "num_outputs = 10\n",
    "\n",
    "W = torch.normal(0, 0.01, size=(num_inputs, num_outputs), requires_grad=True)\n",
    "b = torch.zeros(num_outputs, requires_grad=True)"
   ]
  },
  {
   "cell_type": "markdown",
   "id": "65d3ae56",
   "metadata": {},
   "source": [
    "### 定义softmax函数"
   ]
  },
  {
   "cell_type": "code",
   "execution_count": 5,
   "id": "33e00d48",
   "metadata": {},
   "outputs": [],
   "source": [
    "# softmax函数\n",
    "def softmax(X_):\n",
    "    x_exp = torch.exp(X_)\n",
    "    x_row_sum = x_exp.sum(axis=1, keepdim=True)\n",
    "    return x_exp / x_row_sum"
   ]
  },
  {
   "cell_type": "code",
   "execution_count": 6,
   "id": "70dc4ddb",
   "metadata": {
    "scrolled": true
   },
   "outputs": [
    {
     "data": {
      "text/plain": [
       "tensor([[  2.7183,   7.3891,  20.0855],\n",
       "        [ 54.5981, 148.4132, 403.4288]])"
      ]
     },
     "execution_count": 6,
     "metadata": {},
     "output_type": "execute_result"
    }
   ],
   "source": [
    "X_ = torch.tensor([[1,2,3],[4,5,6]])\n",
    "torch.exp(X_)"
   ]
  },
  {
   "cell_type": "code",
   "execution_count": 7,
   "id": "8d4c4c43",
   "metadata": {
    "scrolled": true
   },
   "outputs": [
    {
     "data": {
      "text/plain": [
       "tensor([1., 1.])"
      ]
     },
     "execution_count": 7,
     "metadata": {},
     "output_type": "execute_result"
    }
   ],
   "source": [
    "t = softmax(X_)\n",
    "t.sum(axis = 1)"
   ]
  },
  {
   "cell_type": "markdown",
   "id": "37b51b8b",
   "metadata": {},
   "source": [
    "### 构建模型"
   ]
  },
  {
   "cell_type": "code",
   "execution_count": 8,
   "id": "ac3cf22c",
   "metadata": {},
   "outputs": [],
   "source": [
    "def softmax_reg_model(X_):\n",
    "    return softmax(torch.matmul(X_, W) + b)"
   ]
  },
  {
   "cell_type": "markdown",
   "id": "531c72b0",
   "metadata": {},
   "source": [
    "### 定义损失函数"
   ]
  },
  {
   "cell_type": "code",
   "execution_count": 9,
   "id": "a2d724b0",
   "metadata": {},
   "outputs": [],
   "source": [
    "def cross_entropy(y_hat, y):\n",
    "    return -torch.log(y_hat[range(len(y)), y])"
   ]
  },
  {
   "cell_type": "code",
   "execution_count": 10,
   "id": "42f993c8",
   "metadata": {},
   "outputs": [
    {
     "data": {
      "text/plain": [
       "tensor([2.3026, 0.6931])"
      ]
     },
     "execution_count": 10,
     "metadata": {},
     "output_type": "execute_result"
    }
   ],
   "source": [
    "y = torch.tensor([0, 2])\n",
    "y_hat = torch.tensor([[0.1, 0.3, 0.6], [0.3, 0.2, 0.5]])\n",
    "cross_entropy(y_hat, y)\n",
    "#y_hat.shape, y.shape"
   ]
  },
  {
   "cell_type": "markdown",
   "id": "43ca785f",
   "metadata": {},
   "source": [
    "### 构建精度函数 用于评估模型"
   ]
  },
  {
   "cell_type": "code",
   "execution_count": 11,
   "id": "f1a4afd2",
   "metadata": {},
   "outputs": [],
   "source": [
    "def accuracy(y_hat, y):\n",
    "    y_hat_pred = torch.argmax(y_hat,axis=1)\n",
    "    com = y_hat_pred == y\n",
    "    return com.sum() / len(y)"
   ]
  },
  {
   "cell_type": "code",
   "execution_count": 12,
   "id": "cd5e2c51",
   "metadata": {},
   "outputs": [
    {
     "data": {
      "text/plain": [
       "tensor(0.5000)"
      ]
     },
     "execution_count": 12,
     "metadata": {},
     "output_type": "execute_result"
    }
   ],
   "source": [
    "accuracy(y_hat, y)"
   ]
  },
  {
   "cell_type": "markdown",
   "id": "07248042",
   "metadata": {},
   "source": [
    "### 构建优化器 sgd"
   ]
  },
  {
   "cell_type": "code",
   "execution_count": 13,
   "id": "697fd9da",
   "metadata": {},
   "outputs": [],
   "source": [
    "def sgd(W, b, lr, batch_size):\n",
    "    with torch.no_grad():\n",
    "        W -= lr * W.grad / batch_size\n",
    "        b -= lr * b.grad / batch_size\n",
    "        W.grad.zero_()\n",
    "        b.grad.zero_()"
   ]
  },
  {
   "cell_type": "markdown",
   "id": "33a5bd04",
   "metadata": {},
   "source": [
    "### 开始训练"
   ]
  },
  {
   "cell_type": "code",
   "execution_count": 14,
   "id": "a53791cf",
   "metadata": {},
   "outputs": [],
   "source": [
    "for epoch in range(num_epochs):\n",
    "    for X_, y in train_iter:\n",
    "        X_ = X_.reshape(len(X_), -1)\n",
    "        #print(X_.shape)\n",
    "        y_hat = softmax_reg_model(X_)\n",
    "        #print(y_hat.shape)\n",
    "        #print(y.shape)\n",
    "        loss = cross_entropy(y_hat, y)\n",
    "        loss.sum().backward()\n",
    "        sgd(W, b, lr, len(X_))"
   ]
  },
  {
   "cell_type": "markdown",
   "id": "868eb881",
   "metadata": {},
   "source": [
    "### 使用测试集预测  评估模型"
   ]
  },
  {
   "cell_type": "code",
   "execution_count": 15,
   "id": "33ef463f",
   "metadata": {},
   "outputs": [
    {
     "name": "stdout",
     "output_type": "stream",
     "text": [
      "tensor(0.8594)\n",
      "tensor(0.8398)\n",
      "tensor(0.8125)\n",
      "tensor(0.8203)\n",
      "tensor(0.8359)\n",
      "tensor(0.8672)\n",
      "tensor(0.8828)\n",
      "tensor(0.8398)\n",
      "tensor(0.8594)\n",
      "tensor(0.8125)\n",
      "tensor(0.8203)\n",
      "tensor(0.7891)\n",
      "tensor(0.7930)\n",
      "tensor(0.8203)\n",
      "tensor(0.8203)\n",
      "tensor(0.8203)\n",
      "tensor(0.8281)\n",
      "tensor(0.8633)\n",
      "tensor(0.8086)\n",
      "tensor(0.8008)\n",
      "tensor(0.8359)\n",
      "tensor(0.8086)\n",
      "tensor(0.8164)\n",
      "tensor(0.8438)\n",
      "tensor(0.8359)\n",
      "tensor(0.7969)\n",
      "tensor(0.8359)\n",
      "tensor(0.8398)\n",
      "tensor(0.8438)\n",
      "tensor(0.8438)\n",
      "tensor(0.8281)\n",
      "tensor(0.8047)\n",
      "tensor(0.8398)\n",
      "tensor(0.8438)\n",
      "tensor(0.7852)\n",
      "tensor(0.8359)\n",
      "tensor(0.8359)\n",
      "tensor(0.8047)\n",
      "tensor(0.8633)\n",
      "tensor(0.8125)\n"
     ]
    }
   ],
   "source": [
    "def prediction():\n",
    "    for X, y in test_iter:\n",
    "        X = X.reshape(len(X), -1)\n",
    "        y_hat = softmax_reg_model(X)\n",
    "        print(accuracy(y_hat, y))\n",
    "        \n",
    "prediction()"
   ]
  },
  {
   "cell_type": "markdown",
   "id": "443403e7",
   "metadata": {},
   "source": [
    "## softmax回归的简单实现"
   ]
  },
  {
   "cell_type": "code",
   "execution_count": 18,
   "id": "6ecc531a",
   "metadata": {},
   "outputs": [
    {
     "name": "stdout",
     "output_type": "stream",
     "text": [
      "tensor(0.8555)\n",
      "tensor(0.8555)\n",
      "tensor(0.8359)\n",
      "tensor(0.8359)\n",
      "tensor(0.8359)\n",
      "tensor(0.8594)\n",
      "tensor(0.8633)\n",
      "tensor(0.8516)\n",
      "tensor(0.8633)\n",
      "tensor(0.8125)\n",
      "tensor(0.8398)\n",
      "tensor(0.7930)\n",
      "tensor(0.8008)\n",
      "tensor(0.8359)\n",
      "tensor(0.8242)\n",
      "tensor(0.8320)\n",
      "tensor(0.8281)\n",
      "tensor(0.8711)\n",
      "tensor(0.8164)\n",
      "tensor(0.7930)\n",
      "tensor(0.8320)\n",
      "tensor(0.8203)\n",
      "tensor(0.8086)\n",
      "tensor(0.8477)\n",
      "tensor(0.8477)\n",
      "tensor(0.7930)\n",
      "tensor(0.8359)\n",
      "tensor(0.8359)\n",
      "tensor(0.8555)\n",
      "tensor(0.8594)\n",
      "tensor(0.8320)\n",
      "tensor(0.8086)\n",
      "tensor(0.8555)\n",
      "tensor(0.8320)\n",
      "tensor(0.7891)\n",
      "tensor(0.8516)\n",
      "tensor(0.8438)\n",
      "tensor(0.8164)\n",
      "tensor(0.8750)\n",
      "tensor(0.8750)\n"
     ]
    }
   ],
   "source": [
    "# 构建模型\n",
    "net = torch.nn.Sequential(torch.nn.Flatten(), torch.nn.Linear(784,10))\n",
    "#net = nn.Sequential(nn.Flatten(), nn.Linear(784, 10))\n",
    "\n",
    "# 构建损失函数\n",
    "loss_f = torch.nn.CrossEntropyLoss(reduction='mean')\n",
    "\n",
    "# 定义优化器\n",
    "updater = torch.optim.SGD(net.parameters(), lr=0.1)\n",
    "\n",
    "# 开始训练\n",
    "for epoch in range(num_epochs):\n",
    "#for epoch in range(100):\n",
    "    for X_, y in train_iter:\n",
    "        y_hat = net(X_)\n",
    "        loss = loss_f(y_hat, y)\n",
    "        updater.zero_grad()\n",
    "        loss.backward()\n",
    "        updater.step()\n",
    "\n",
    "# 预测\n",
    "for X, y in test_iter:\n",
    "    X = X.reshape(len(X), -1)\n",
    "    y_hat = softmax(net(X))\n",
    "    print(accuracy(y_hat, y))"
   ]
  }
 ],
 "metadata": {
  "kernelspec": {
   "display_name": "pytorch-cpu",
   "language": "python",
   "name": "pytorch-cpu"
  },
  "language_info": {
   "codemirror_mode": {
    "name": "ipython",
    "version": 3
   },
   "file_extension": ".py",
   "mimetype": "text/x-python",
   "name": "python",
   "nbconvert_exporter": "python",
   "pygments_lexer": "ipython3",
   "version": "3.9.16"
  },
  "toc": {
   "base_numbering": 1,
   "nav_menu": {},
   "number_sections": true,
   "sideBar": true,
   "skip_h1_title": false,
   "title_cell": "Table of Contents",
   "title_sidebar": "Contents",
   "toc_cell": false,
   "toc_position": {},
   "toc_section_display": true,
   "toc_window_display": false
  }
 },
 "nbformat": 4,
 "nbformat_minor": 5
}
