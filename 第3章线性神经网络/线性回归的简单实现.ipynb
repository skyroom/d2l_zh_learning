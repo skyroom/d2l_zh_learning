{
 "cells": [
  {
   "cell_type": "markdown",
   "id": "fe6dd535",
   "metadata": {},
   "source": [
    "### 线性回归的简单实现，使用nn模块"
   ]
  },
  {
   "cell_type": "code",
   "execution_count": 63,
   "id": "f9ab2927",
   "metadata": {},
   "outputs": [
    {
     "name": "stdout",
     "output_type": "stream",
     "text": [
      "epoch 1, loss 2.243604\n",
      "epoch 2, loss 0.415986\n",
      "epoch 3, loss 0.001391\n",
      "epoch 4, loss 0.000055\n",
      "epoch 5, loss 0.000052\n"
     ]
    }
   ],
   "source": [
    "# 构建模型\n",
    "net = torch.nn.Sequential(torch.nn.Linear(2, 1))\n",
    "\n",
    "# 手动初始化参数\n",
    "net[0].weight.data.normal_(0, 0.01)\n",
    "net[0].bias.data.fill_(0)\n",
    "\n",
    "# 构建损失函数\n",
    "# loss_f = torch.nn.MSELoss()\n",
    "loss_f = torch.nn.HuberLoss(reduction='mean')\n",
    "\n",
    "# 构建优化器\n",
    "trainer = torch.optim.SGD(net.parameters(), lr=0.03)\n",
    "\n",
    "\n",
    "# 训练\n",
    "for epoch in range(epochs):\n",
    "    for X_, y_ in get_batch(num_sample, X, y, batch_size):\n",
    "        loss = loss_f(net(X_), y_.reshape(10,1))\n",
    "        trainer.zero_grad()\n",
    "        loss.backward()\n",
    "        trainer.step()\n",
    "    with torch.no_grad():\n",
    "        train_loss = loss_f(net(X), y.reshape(1000,1))\n",
    "        print(f'epoch {epoch + 1}, loss {float(train_loss):f}')"
   ]
  },
  {
   "cell_type": "code",
   "execution_count": 67,
   "id": "7f8a00de",
   "metadata": {},
   "outputs": [
    {
     "data": {
      "text/plain": [
       "[2, 1, 2, 3]"
      ]
     },
     "execution_count": 67,
     "metadata": {},
     "output_type": "execute_result"
    }
   ],
   "source": [
    "la = [1,2,3]\n",
    "la.insert(0,2)\n",
    "la"
   ]
  },
  {
   "cell_type": "code",
   "execution_count": 68,
   "id": "12b8e2f9",
   "metadata": {},
   "outputs": [
    {
     "data": {
      "text/plain": [
       "tensor([0.1000, 0.5000])"
      ]
     },
     "execution_count": 68,
     "metadata": {},
     "output_type": "execute_result"
    }
   ],
   "source": [
    "y = torch.tensor([0, 2])\n",
    "y_hat = torch.tensor([[0.1, 0.3, 0.6], [0.3, 0.2, 0.5]])\n",
    "y_hat[[0, 1], y]"
   ]
  },
  {
   "cell_type": "code",
   "execution_count": 73,
   "id": "9d61379e",
   "metadata": {},
   "outputs": [
    {
     "data": {
      "text/plain": [
       "array([0.1, 0.3])"
      ]
     },
     "execution_count": 73,
     "metadata": {},
     "output_type": "execute_result"
    }
   ],
   "source": [
    "y=np.array([[0.1, 0.3, 0.6], [0.3, 0.2, 0.5]])\n",
    "y[[0,1],[0]]"
   ]
  },
  {
   "cell_type": "code",
   "execution_count": 76,
   "id": "20767b72",
   "metadata": {},
   "outputs": [
    {
     "name": "stdout",
     "output_type": "stream",
     "text": [
      "我们的数组是：\n",
      "[[ 0  1  2]\n",
      " [ 3  4  5]\n",
      " [ 6  7  8]\n",
      " [ 9 10 11]]\n",
      "\n",
      "\n",
      "这个数组的四个角元素是：\n",
      "[ 0  2  9 11]\n"
     ]
    }
   ],
   "source": [
    "import numpy as np \n",
    " \n",
    "x = np.array([[  0,  1,  2],[  3,  4,  5],[  6,  7,  8],[  9,  10,  11]])  \n",
    "print ('我们的数组是：' )\n",
    "print (x)\n",
    "print ('\\n')\n",
    "rows = np.array([0,0,3,3]) \n",
    "cols = np.array([0,2,0,2]) \n",
    "y = x[rows,cols]  \n",
    "print  ('这个数组的四个角元素是：')\n",
    "print (y)"
   ]
  },
  {
   "cell_type": "code",
   "execution_count": 109,
   "id": "ec2759ee",
   "metadata": {},
   "outputs": [
    {
     "data": {
      "text/plain": [
       "tensor([nan, -0.])"
      ]
     },
     "execution_count": 109,
     "metadata": {},
     "output_type": "execute_result"
    }
   ],
   "source": [
    "def cross_entropy(y_hat, y):\n",
    "    return - torch.log(y_hat[range(len(y_hat)), y])\n",
    "\n",
    "y = torch.tensor([0, 2])\n",
    "y_hat = torch.tensor([[-1., 0., 0.], [0., 0., 1.0]])\n",
    "cross_entropy(y_hat, y)"
   ]
  },
  {
   "cell_type": "code",
   "execution_count": 84,
   "id": "1c46e457",
   "metadata": {},
   "outputs": [],
   "source": [
    "def cross_entropy_loss(y_true, y_pred):\n",
    "    # 将输入转换为NumPy数组\n",
    "    y_true = np.array(y_true)\n",
    "    y_pred = np.array(y_pred)\n",
    "\n",
    "    # 计算交叉熵损失\n",
    "    loss = -np.sum(y_true * np.log(y_pred))\n",
    "    return loss"
   ]
  },
  {
   "cell_type": "code",
   "execution_count": 88,
   "id": "14eb9fe9",
   "metadata": {},
   "outputs": [
    {
     "name": "stdout",
     "output_type": "stream",
     "text": [
      "平均交叉熵损失: [0.35667494393873245, 0.916290731874155, 0.2231435513142097]\n"
     ]
    }
   ],
   "source": [
    "y_true = [[1, 0, 0], [0, 1, 0], [0, 0, 1]]  # 真实标签\n",
    "y_pred = [[0.7, 0.2, 0.1], [0.3, 0.4, 0.3], [0.1, 0.1, 0.8]]  # 模型输出概率\n",
    "\n",
    "total_loss = []\n",
    "num_samples = len(y_true)\n",
    "\n",
    "for i in range(num_samples):\n",
    "    loss = cross_entropy_loss(y_true[i], y_pred[i])\n",
    "    total_loss.append(loss)\n",
    "\n",
    "print(\"平均交叉熵损失:\", total_loss)"
   ]
  },
  {
   "cell_type": "code",
   "execution_count": 89,
   "id": "5da72264",
   "metadata": {},
   "outputs": [
    {
     "data": {
      "text/plain": [
       "tensor([0.3567, 0.9163, 0.2231])"
      ]
     },
     "execution_count": 89,
     "metadata": {},
     "output_type": "execute_result"
    }
   ],
   "source": [
    "y = torch.tensor([0, 1, 2])\n",
    "y_hat = torch.tensor([[0.7, 0.2, 0.1], [0.3, 0.4, 0.3], [0.1, 0.1, 0.8]])\n",
    "cross_entropy(y_hat, y)"
   ]
  },
  {
   "cell_type": "code",
   "execution_count": 91,
   "id": "bb904c87",
   "metadata": {},
   "outputs": [
    {
     "data": {
      "text/plain": [
       "tensor(-0.3567)"
      ]
     },
     "execution_count": 91,
     "metadata": {},
     "output_type": "execute_result"
    }
   ],
   "source": [
    "torch.log(torch.tensor(0.7))"
   ]
  },
  {
   "cell_type": "code",
   "execution_count": 92,
   "id": "7ec00d94",
   "metadata": {},
   "outputs": [
    {
     "data": {
      "text/plain": [
       "[0.0, 0.0]"
      ]
     },
     "execution_count": 92,
     "metadata": {},
     "output_type": "execute_result"
    }
   ],
   "source": [
    "[0.0] * 2"
   ]
  },
  {
   "cell_type": "code",
   "execution_count": 94,
   "id": "cc4c88d2",
   "metadata": {},
   "outputs": [],
   "source": [
    "def add1(*args):\n",
    "    data = [a + float(b) for a, b in zip(data, args)]\n",
    "\n",
    "x = [0,1,2]\n",
    "y = [2]"
   ]
  },
  {
   "cell_type": "code",
   "execution_count": 95,
   "id": "d5d58847",
   "metadata": {},
   "outputs": [
    {
     "ename": "AssertionError",
     "evalue": "该代码只能在 Linux 下执行",
     "output_type": "error",
     "traceback": [
      "\u001b[1;31m---------------------------------------------------------------------------\u001b[0m",
      "\u001b[1;31mAssertionError\u001b[0m                            Traceback (most recent call last)",
      "Cell \u001b[1;32mIn[95], line 2\u001b[0m\n\u001b[0;32m      1\u001b[0m \u001b[38;5;28;01mimport\u001b[39;00m \u001b[38;5;21;01msys\u001b[39;00m\n\u001b[1;32m----> 2\u001b[0m \u001b[38;5;28;01massert\u001b[39;00m (\u001b[38;5;124m'\u001b[39m\u001b[38;5;124mlinux\u001b[39m\u001b[38;5;124m'\u001b[39m \u001b[38;5;129;01min\u001b[39;00m sys\u001b[38;5;241m.\u001b[39mplatform), \u001b[38;5;124m\"\u001b[39m\u001b[38;5;124m该代码只能在 Linux 下执行\u001b[39m\u001b[38;5;124m\"\u001b[39m\n",
      "\u001b[1;31mAssertionError\u001b[0m: 该代码只能在 Linux 下执行"
     ]
    }
   ],
   "source": [
    "import sys\n",
    "assert ('linux' in sys.platform), \"该代码只能在 Linux 下执行\""
   ]
  },
  {
   "cell_type": "code",
   "execution_count": 107,
   "id": "eb68642f",
   "metadata": {},
   "outputs": [
    {
     "name": "stderr",
     "output_type": "stream",
     "text": [
      "C:\\Users\\Coyle\\AppData\\Local\\Temp\\ipykernel_3116\\3798726120.py:1: RuntimeWarning: overflow encountered in exp\n",
      "  np.exp(750)\n"
     ]
    },
    {
     "data": {
      "text/plain": [
       "inf"
      ]
     },
     "execution_count": 107,
     "metadata": {},
     "output_type": "execute_result"
    }
   ],
   "source": [
    "np.exp(750)"
   ]
  }
 ],
 "metadata": {
  "kernelspec": {
   "display_name": "pytorch-cpu",
   "language": "python",
   "name": "pytorch-cpu"
  },
  "language_info": {
   "codemirror_mode": {
    "name": "ipython",
    "version": 3
   },
   "file_extension": ".py",
   "mimetype": "text/x-python",
   "name": "python",
   "nbconvert_exporter": "python",
   "pygments_lexer": "ipython3",
   "version": "3.9.16"
  },
  "toc": {
   "base_numbering": 1,
   "nav_menu": {},
   "number_sections": true,
   "sideBar": true,
   "skip_h1_title": false,
   "title_cell": "Table of Contents",
   "title_sidebar": "Contents",
   "toc_cell": false,
   "toc_position": {},
   "toc_section_display": true,
   "toc_window_display": false
  }
 },
 "nbformat": 4,
 "nbformat_minor": 5
}
