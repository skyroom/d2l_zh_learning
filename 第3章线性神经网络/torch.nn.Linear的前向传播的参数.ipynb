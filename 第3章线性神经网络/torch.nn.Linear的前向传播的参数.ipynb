{
 "cells": [
  {
   "cell_type": "markdown",
   "id": "6bae16c3",
   "metadata": {},
   "source": [
    "## 如果线性层前向传播时输入X的维度是3维数据，则输出时X的前两维不变，最后一维是实例化时的输出维度\n",
    "### 以下代码是验证上述结果"
   ]
  },
  {
   "cell_type": "code",
   "execution_count": 2,
   "id": "d3c21384",
   "metadata": {
    "ExecuteTime": {
     "end_time": "2023-09-03T06:15:41.467191Z",
     "start_time": "2023-09-03T06:15:41.465285Z"
    }
   },
   "outputs": [],
   "source": [
    "from torch import nn\n",
    "import torch\n",
    "import random\n",
    "import numpy as np\n",
    "from d2l import torch as d2l"
   ]
  },
  {
   "cell_type": "code",
   "execution_count": 3,
   "id": "2ab83a0a",
   "metadata": {
    "ExecuteTime": {
     "end_time": "2023-09-03T06:16:08.271015Z",
     "start_time": "2023-09-03T06:16:08.253848Z"
    }
   },
   "outputs": [],
   "source": [
    "# 输入特征维度为5  输出特征维度为10\n",
    "model = nn.Linear(in_features=5, out_features=10, bias=True)"
   ]
  },
  {
   "cell_type": "code",
   "execution_count": 5,
   "id": "7d819bc4",
   "metadata": {
    "ExecuteTime": {
     "end_time": "2023-09-03T06:20:59.337391Z",
     "start_time": "2023-09-03T06:20:59.323710Z"
    }
   },
   "outputs": [
    {
     "data": {
      "text/plain": [
       "torch.Size([3, 10])"
      ]
     },
     "execution_count": 5,
     "metadata": {},
     "output_type": "execute_result"
    }
   ],
   "source": [
    "X = torch.randn(3,5)\n",
    "model(X).shape"
   ]
  },
  {
   "cell_type": "code",
   "execution_count": 10,
   "id": "378b8b4e",
   "metadata": {
    "ExecuteTime": {
     "end_time": "2023-09-03T06:21:55.103523Z",
     "start_time": "2023-09-03T06:21:55.091052Z"
    }
   },
   "outputs": [
    {
     "data": {
      "text/plain": [
       "torch.Size([2, 2, 10])"
      ]
     },
     "execution_count": 10,
     "metadata": {},
     "output_type": "execute_result"
    }
   ],
   "source": [
    "X = torch.randn(2,2,5)\n",
    "X.shape\n",
    "\n",
    "model(X).shape"
   ]
  }
 ],
 "metadata": {
  "kernelspec": {
   "display_name": "Python 3 (ipykernel)",
   "language": "python",
   "name": "python3"
  },
  "language_info": {
   "codemirror_mode": {
    "name": "ipython",
    "version": 3
   },
   "file_extension": ".py",
   "mimetype": "text/x-python",
   "name": "python",
   "nbconvert_exporter": "python",
   "pygments_lexer": "ipython3",
   "version": "3.9.16"
  },
  "toc": {
   "base_numbering": 1,
   "nav_menu": {},
   "number_sections": true,
   "sideBar": true,
   "skip_h1_title": false,
   "title_cell": "Table of Contents",
   "title_sidebar": "Contents",
   "toc_cell": false,
   "toc_position": {},
   "toc_section_display": true,
   "toc_window_display": false
  }
 },
 "nbformat": 4,
 "nbformat_minor": 5
}
