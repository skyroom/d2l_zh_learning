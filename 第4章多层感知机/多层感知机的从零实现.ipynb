{
 "cells": [
  {
   "cell_type": "code",
   "execution_count": 1,
   "id": "4fc8c868",
   "metadata": {},
   "outputs": [],
   "source": [
    "import torch\n",
    "from torch import nn\n",
    "from d2l import torch as d2l"
   ]
  },
  {
   "cell_type": "markdown",
   "id": "f0e86a7c",
   "metadata": {},
   "source": [
    "## 导入数据"
   ]
  },
  {
   "cell_type": "code",
   "execution_count": 2,
   "id": "8e924d9b",
   "metadata": {},
   "outputs": [],
   "source": [
    "batch_size = 256\n",
    "train_iter, test_iter = d2l.load_data_fashion_mnist(batch_size)"
   ]
  },
  {
   "cell_type": "markdown",
   "id": "3d09ea1e",
   "metadata": {},
   "source": [
    "## 初始化参数"
   ]
  },
  {
   "cell_type": "code",
   "execution_count": 3,
   "id": "82de0867",
   "metadata": {},
   "outputs": [],
   "source": [
    "num_inputs, num_outputs, num_hiddens = 784, 10, 256\n",
    "num_epochs, lr = 10, 0.1\n",
    "\n",
    "W1 = nn.Parameter(torch.randn(\n",
    "    num_inputs, num_hiddens, requires_grad=True) * 0.01)\n",
    "b1 = nn.Parameter(torch.zeros(num_hiddens, requires_grad=True))\n",
    "W2 = nn.Parameter(torch.randn(\n",
    "    num_hiddens, num_outputs, requires_grad=True) * 0.01)\n",
    "b2 = nn.Parameter(torch.zeros(num_outputs, requires_grad=True))\n",
    "\n",
    "params = [W1, b1, W2, b2]"
   ]
  },
  {
   "cell_type": "markdown",
   "id": "1d0be87f",
   "metadata": {},
   "source": [
    "## 激活函数"
   ]
  },
  {
   "cell_type": "code",
   "execution_count": 4,
   "id": "56182612",
   "metadata": {},
   "outputs": [],
   "source": [
    "def Relu(X):\n",
    "    a = torch.zeros_like(X)\n",
    "    return torch.max(X, a)"
   ]
  },
  {
   "cell_type": "markdown",
   "id": "127bb64b",
   "metadata": {},
   "source": [
    "## 损失函数"
   ]
  },
  {
   "cell_type": "code",
   "execution_count": 5,
   "id": "a06b9f83",
   "metadata": {},
   "outputs": [],
   "source": [
    "loss = nn.CrossEntropyLoss(reduction='none')"
   ]
  },
  {
   "cell_type": "markdown",
   "id": "e0b61c52",
   "metadata": {},
   "source": [
    "## 模型"
   ]
  },
  {
   "cell_type": "code",
   "execution_count": 6,
   "id": "1bb2e9ff",
   "metadata": {},
   "outputs": [],
   "source": [
    "def Net(X):\n",
    "    X = X.reshape(-1, num_inputs)\n",
    "    a = Relu(X @ W1 + b1)\n",
    "    return (a @ W2 + b2)"
   ]
  },
  {
   "cell_type": "markdown",
   "id": "a12a1058",
   "metadata": {},
   "source": [
    "## 优化算法"
   ]
  },
  {
   "cell_type": "code",
   "execution_count": 7,
   "id": "454eebd7",
   "metadata": {},
   "outputs": [],
   "source": [
    "updater = torch.optim.SGD(params, lr=lr)"
   ]
  },
  {
   "cell_type": "markdown",
   "id": "85c332fc",
   "metadata": {},
   "source": [
    "## 计算精度"
   ]
  },
  {
   "cell_type": "code",
   "execution_count": 8,
   "id": "08ebd83e",
   "metadata": {},
   "outputs": [],
   "source": [
    "def accuracy(y_hat, y):\n",
    "    com = y_hat.argmax(axis=1) == y\n",
    "    return com.sum() / len(y)"
   ]
  },
  {
   "cell_type": "markdown",
   "id": "3e94a122",
   "metadata": {},
   "source": [
    "## 训练"
   ]
  },
  {
   "cell_type": "code",
   "execution_count": 11,
   "id": "76692d20",
   "metadata": {},
   "outputs": [],
   "source": [
    "for epoch in range(num_epochs):\n",
    "    for X,y in train_iter:\n",
    "        l = loss(Net(X), y)\n",
    "        updater.zero_grad()\n",
    "        l.mean().backward()  # 当写成l.mean()时，收敛快。当l.sum()时，收敛慢\n",
    "        updater.step()"
   ]
  },
  {
   "cell_type": "markdown",
   "id": "91dc9d66",
   "metadata": {},
   "source": [
    "## 预测"
   ]
  },
  {
   "cell_type": "code",
   "execution_count": 12,
   "id": "1a179f97",
   "metadata": {},
   "outputs": [
    {
     "name": "stdout",
     "output_type": "stream",
     "text": [
      "tensor(0.8867)\n",
      "tensor(0.8555)\n",
      "tensor(0.8359)\n",
      "tensor(0.8711)\n",
      "tensor(0.8438)\n",
      "tensor(0.8359)\n",
      "tensor(0.8711)\n",
      "tensor(0.8867)\n",
      "tensor(0.8945)\n",
      "tensor(0.8398)\n",
      "tensor(0.8516)\n",
      "tensor(0.8320)\n",
      "tensor(0.8281)\n",
      "tensor(0.8359)\n",
      "tensor(0.8555)\n",
      "tensor(0.8438)\n",
      "tensor(0.8477)\n",
      "tensor(0.8945)\n",
      "tensor(0.8242)\n",
      "tensor(0.8359)\n",
      "tensor(0.8438)\n",
      "tensor(0.8086)\n",
      "tensor(0.8516)\n",
      "tensor(0.8477)\n",
      "tensor(0.8789)\n",
      "tensor(0.8242)\n",
      "tensor(0.8711)\n",
      "tensor(0.8203)\n",
      "tensor(0.8711)\n",
      "tensor(0.8867)\n",
      "tensor(0.8555)\n",
      "tensor(0.8164)\n",
      "tensor(0.8945)\n",
      "tensor(0.8867)\n",
      "tensor(0.8125)\n",
      "tensor(0.8516)\n",
      "tensor(0.8359)\n",
      "tensor(0.8633)\n",
      "tensor(0.8867)\n",
      "tensor(0.8750)\n"
     ]
    }
   ],
   "source": [
    "for X,y in test_iter:\n",
    "    y_hat = Net(X)\n",
    "    print(accuracy(y_hat, y))"
   ]
  }
 ],
 "metadata": {
  "kernelspec": {
   "display_name": "pytorch-cpu",
   "language": "python",
   "name": "pytorch-cpu"
  },
  "language_info": {
   "codemirror_mode": {
    "name": "ipython",
    "version": 3
   },
   "file_extension": ".py",
   "mimetype": "text/x-python",
   "name": "python",
   "nbconvert_exporter": "python",
   "pygments_lexer": "ipython3",
   "version": "3.9.16"
  },
  "toc": {
   "base_numbering": 1,
   "nav_menu": {},
   "number_sections": true,
   "sideBar": true,
   "skip_h1_title": false,
   "title_cell": "Table of Contents",
   "title_sidebar": "Contents",
   "toc_cell": false,
   "toc_position": {},
   "toc_section_display": true,
   "toc_window_display": false
  }
 },
 "nbformat": 4,
 "nbformat_minor": 5
}
