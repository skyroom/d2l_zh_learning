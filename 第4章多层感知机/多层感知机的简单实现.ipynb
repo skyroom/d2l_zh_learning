{
 "cells": [
  {
   "cell_type": "code",
   "execution_count": 1,
   "id": "a43baac0",
   "metadata": {},
   "outputs": [],
   "source": [
    "import torch\n",
    "from torch import nn\n",
    "from d2l import torch as d2l"
   ]
  },
  {
   "cell_type": "code",
   "execution_count": 18,
   "id": "9ddced9c",
   "metadata": {},
   "outputs": [],
   "source": [
    "batch_size = 256\n",
    "train_iter, test_iter = d2l.load_data_fashion_mnist(batch_size)"
   ]
  },
  {
   "cell_type": "code",
   "execution_count": 19,
   "id": "e7dd2f35",
   "metadata": {},
   "outputs": [],
   "source": [
    "num_inputs, num_outputs, num_hiddens = 784, 10, 256\n",
    "num_epochs, lr = 10, 0.1"
   ]
  },
  {
   "cell_type": "code",
   "execution_count": 20,
   "id": "4a14c691",
   "metadata": {},
   "outputs": [],
   "source": [
    "loss = nn.CrossEntropyLoss(reduction='none')"
   ]
  },
  {
   "cell_type": "code",
   "execution_count": 28,
   "id": "d1cb4518",
   "metadata": {},
   "outputs": [],
   "source": [
    "Net = nn.Sequential(\n",
    "    nn.Flatten(),\n",
    "    nn.Linear(num_inputs, num_hiddens),\n",
    "    nn.ReLU(),\n",
    "    nn.Linear(num_hiddens, num_outputs),\n",
    ")\n",
    "\n",
    "updater = torch.optim.SGD(Net.parameters(), lr=lr)"
   ]
  },
  {
   "cell_type": "code",
   "execution_count": 22,
   "id": "6a868a38",
   "metadata": {},
   "outputs": [],
   "source": [
    "def accuracy(y_hat, y):\n",
    "    com = y_hat.argmax(axis=1) == y\n",
    "    return com.sum() / len(y)"
   ]
  },
  {
   "cell_type": "code",
   "execution_count": 29,
   "id": "7c1530ee",
   "metadata": {},
   "outputs": [],
   "source": [
    "for epoch in range(num_epochs):\n",
    "    for X,y in train_iter:\n",
    "        l = loss(Net(X), y)\n",
    "        updater.zero_grad()\n",
    "        l.mean().backward()  # 当写成l.mean()时，收敛快。当l.sum()时，收敛慢\n",
    "        updater.step()"
   ]
  },
  {
   "cell_type": "code",
   "execution_count": 30,
   "id": "cc7b8e28",
   "metadata": {},
   "outputs": [
    {
     "name": "stdout",
     "output_type": "stream",
     "text": [
      "tensor(0.8867)\n",
      "tensor(0.8750)\n",
      "tensor(0.8477)\n",
      "tensor(0.8594)\n",
      "tensor(0.8711)\n",
      "tensor(0.8516)\n",
      "tensor(0.8867)\n",
      "tensor(0.8359)\n",
      "tensor(0.8984)\n",
      "tensor(0.8359)\n",
      "tensor(0.8477)\n",
      "tensor(0.8047)\n",
      "tensor(0.8281)\n",
      "tensor(0.8359)\n",
      "tensor(0.8555)\n",
      "tensor(0.8398)\n",
      "tensor(0.8594)\n",
      "tensor(0.9062)\n",
      "tensor(0.8320)\n",
      "tensor(0.7969)\n",
      "tensor(0.8398)\n",
      "tensor(0.8203)\n",
      "tensor(0.8516)\n",
      "tensor(0.8555)\n",
      "tensor(0.8555)\n",
      "tensor(0.8242)\n",
      "tensor(0.8477)\n",
      "tensor(0.8555)\n",
      "tensor(0.8477)\n",
      "tensor(0.8633)\n",
      "tensor(0.8555)\n",
      "tensor(0.8398)\n",
      "tensor(0.8672)\n",
      "tensor(0.8633)\n",
      "tensor(0.7852)\n",
      "tensor(0.8555)\n",
      "tensor(0.8555)\n",
      "tensor(0.8359)\n",
      "tensor(0.8828)\n",
      "tensor(0.8750)\n"
     ]
    }
   ],
   "source": [
    "for X,y in test_iter:\n",
    "    y_hat = Net(X)\n",
    "    print(accuracy(y_hat, y))"
   ]
  }
 ],
 "metadata": {
  "kernelspec": {
   "display_name": "pytorch-cpu",
   "language": "python",
   "name": "pytorch-cpu"
  },
  "language_info": {
   "codemirror_mode": {
    "name": "ipython",
    "version": 3
   },
   "file_extension": ".py",
   "mimetype": "text/x-python",
   "name": "python",
   "nbconvert_exporter": "python",
   "pygments_lexer": "ipython3",
   "version": "3.9.16"
  },
  "toc": {
   "base_numbering": 1,
   "nav_menu": {},
   "number_sections": true,
   "sideBar": true,
   "skip_h1_title": false,
   "title_cell": "Table of Contents",
   "title_sidebar": "Contents",
   "toc_cell": false,
   "toc_position": {},
   "toc_section_display": true,
   "toc_window_display": false
  }
 },
 "nbformat": 4,
 "nbformat_minor": 5
}
