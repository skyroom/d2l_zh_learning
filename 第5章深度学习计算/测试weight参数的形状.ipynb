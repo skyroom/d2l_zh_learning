{
 "cells": [
  {
   "cell_type": "code",
   "execution_count": 11,
   "id": "970bc586",
   "metadata": {},
   "outputs": [],
   "source": [
    "import random\n",
    "import torch\n",
    "from d2l import torch as d2l\n",
    "from torch import nn"
   ]
  },
  {
   "cell_type": "markdown",
   "id": "e4139355",
   "metadata": {},
   "source": [
    "## 从零开始的线性模型"
   ]
  },
  {
   "cell_type": "code",
   "execution_count": 10,
   "id": "de0e62a2",
   "metadata": {
    "scrolled": true
   },
   "outputs": [
    {
     "data": {
      "text/plain": [
       "tensor([[ 0.0068, -0.0086,  0.0220,  0.0200,  0.0189, -0.0252,  0.0133,  0.0093],\n",
       "        [ 0.0086, -0.0125,  0.0112,  0.0083,  0.0151, -0.0091,  0.0051, -0.0021]],\n",
       "       grad_fn=<AddBackward0>)"
      ]
     },
     "execution_count": 10,
     "metadata": {},
     "output_type": "execute_result"
    }
   ],
   "source": [
    "def linreg(X, w, b):\n",
    "    \"\"\"线性回归模型\"\"\"\n",
    "    return torch.matmul(X, w) + b\n",
    "\n",
    "w = torch.normal(0, 0.01, size=(4,8), requires_grad=True)\n",
    "b = torch.zeros(1, requires_grad=True)\n",
    "\n",
    "X = torch.rand(size=(2, 4))\n",
    "\n",
    "y_hat = linreg(X, w, b)\n",
    "y_hat"
   ]
  },
  {
   "cell_type": "markdown",
   "id": "23e6ed7e",
   "metadata": {},
   "source": [
    "## 简单实现线性模型"
   ]
  },
  {
   "cell_type": "code",
   "execution_count": 12,
   "id": "2266a68a",
   "metadata": {},
   "outputs": [
    {
     "data": {
      "text/plain": [
       "tensor([[ 0.1045, -0.0504, -0.2083,  0.0007,  0.1369, -0.0217, -0.1647, -0.1952],\n",
       "        [-0.2545,  0.1711,  0.0149,  0.4639, -0.0115,  0.0413,  0.1469, -0.1823]],\n",
       "       grad_fn=<AddmmBackward0>)"
      ]
     },
     "execution_count": 12,
     "metadata": {},
     "output_type": "execute_result"
    }
   ],
   "source": [
    "net = nn.Sequential(nn.Linear(4, 8))\n",
    "\n",
    "X = torch.rand(size=(2, 4))\n",
    "\n",
    "y_hat = net(X)\n",
    "y_hat"
   ]
  },
  {
   "cell_type": "code",
   "execution_count": 20,
   "id": "9a66384f",
   "metadata": {},
   "outputs": [
    {
     "data": {
      "text/plain": [
       "torch.Size([8, 4])"
      ]
     },
     "execution_count": 20,
     "metadata": {},
     "output_type": "execute_result"
    }
   ],
   "source": [
    "net.state_dict()['0.weight'].shape"
   ]
  }
 ],
 "metadata": {
  "kernelspec": {
   "display_name": "pytorch-cpu",
   "language": "python",
   "name": "pytorch-cpu"
  },
  "language_info": {
   "codemirror_mode": {
    "name": "ipython",
    "version": 3
   },
   "file_extension": ".py",
   "mimetype": "text/x-python",
   "name": "python",
   "nbconvert_exporter": "python",
   "pygments_lexer": "ipython3",
   "version": "3.9.16"
  },
  "toc": {
   "base_numbering": 1,
   "nav_menu": {},
   "number_sections": true,
   "sideBar": true,
   "skip_h1_title": false,
   "title_cell": "Table of Contents",
   "title_sidebar": "Contents",
   "toc_cell": false,
   "toc_position": {},
   "toc_section_display": true,
   "toc_window_display": false
  }
 },
 "nbformat": 4,
 "nbformat_minor": 5
}
