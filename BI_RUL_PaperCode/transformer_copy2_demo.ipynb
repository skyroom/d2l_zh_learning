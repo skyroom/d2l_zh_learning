{
 "cells": [
  {
   "cell_type": "code",
   "execution_count": 1,
   "id": "bc01f29e",
   "metadata": {
    "ExecuteTime": {
     "end_time": "2023-10-03T04:19:02.754319Z",
     "start_time": "2023-10-03T04:19:01.980491Z"
    }
   },
   "outputs": [],
   "source": [
    "import math\n",
    "import random\n",
    "\n",
    "import torch\n",
    "import torch.nn as nn\n",
    "import numpy as np"
   ]
  },
  {
   "cell_type": "code",
   "execution_count": 2,
   "id": "dd79e4ae",
   "metadata": {
    "ExecuteTime": {
     "end_time": "2023-10-03T04:19:04.333091Z",
     "start_time": "2023-10-03T04:19:04.324141Z"
    }
   },
   "outputs": [],
   "source": [
    "max_length=16"
   ]
  },
  {
   "cell_type": "code",
   "execution_count": 3,
   "id": "b949f82c",
   "metadata": {
    "ExecuteTime": {
     "end_time": "2023-10-03T04:19:06.096553Z",
     "start_time": "2023-10-03T04:19:06.084587Z"
    }
   },
   "outputs": [],
   "source": [
    "class PositionalEncoding(nn.Module):\n",
    "    \"Implement the PE function.\"\n",
    "\n",
    "    def __init__(self, d_model, dropout, max_len=5000):\n",
    "        super(PositionalEncoding, self).__init__()\n",
    "        self.dropout = nn.Dropout(p=dropout)\n",
    "\n",
    "        # 初始化Shape为(max_len, d_model)的PE (positional encoding)\n",
    "        pe = torch.zeros(max_len, d_model)\n",
    "        # 初始化一个tensor [[0, 1, 2, 3, ...]]\n",
    "        position = torch.arange(0, max_len).unsqueeze(1)\n",
    "        # 这里就是sin和cos括号中的内容，通过e和ln进行了变换\n",
    "        div_term = torch.exp(\n",
    "            torch.arange(0, d_model, 2) * -(math.log(10000.0) / d_model)\n",
    "        )\n",
    "        # 计算PE(pos, 2i)\n",
    "        pe[:, 0::2] = torch.sin(position * div_term)\n",
    "        # 计算PE(pos, 2i+1)\n",
    "        pe[:, 1::2] = torch.cos(position * div_term)\n",
    "        # 为了方便计算，在最外面在unsqueeze出一个batch\n",
    "        pe = pe.unsqueeze(0)\n",
    "        # 如果一个参数不参与梯度下降，但又希望保存model的时候将其保存下来\n",
    "        # 这个时候就可以用register_buffer\n",
    "        self.register_buffer(\"pe\", pe)\n",
    "\n",
    "    def forward(self, x):\n",
    "        \"\"\"\n",
    "        x 为embedding后的inputs，例如(1,7, 128)，batch size为1,7个单词，单词维度为128\n",
    "        \"\"\"\n",
    "        # 将x和positional encoding相加。\n",
    "        x = x + self.pe[:, : x.size(1)].requires_grad_(False)\n",
    "        return self.dropout(x)"
   ]
  },
  {
   "cell_type": "code",
   "execution_count": 4,
   "id": "4912d31d",
   "metadata": {
    "ExecuteTime": {
     "end_time": "2023-10-03T04:19:08.355853Z",
     "start_time": "2023-10-03T04:19:08.340891Z"
    }
   },
   "outputs": [],
   "source": [
    "class CopyTaskModel(nn.Module):\n",
    "\n",
    "    def __init__(self, d_model=128):\n",
    "        super(CopyTaskModel, self).__init__()\n",
    "\n",
    "        # 定义词向量，词典数为10。我们不预测两位小数。\n",
    "        self.embedding = nn.Embedding(num_embeddings=10, embedding_dim=128)\n",
    "        # 定义Transformer。超参是我拍脑袋想的\n",
    "        self.transformer = nn.Transformer(d_model=128, num_encoder_layers=2, num_decoder_layers=2, dim_feedforward=512, batch_first=True)\n",
    "\n",
    "        # 定义位置编码器\n",
    "        self.positional_encoding = PositionalEncoding(d_model, dropout=0)\n",
    "\n",
    "        # 定义最后的线性层，这里并没有用Softmax，因为没必要。\n",
    "        # 因为后面的CrossEntropyLoss中自带了\n",
    "        self.predictor = nn.Linear(128, 10)\n",
    "\n",
    "    def forward(self, src, tgt):\n",
    "        # 生成mask\n",
    "        tgt_mask = nn.Transformer.generate_square_subsequent_mask(tgt.size()[-1])\n",
    "        src_key_padding_mask = CopyTaskModel.get_key_padding_mask(src)\n",
    "        tgt_key_padding_mask = CopyTaskModel.get_key_padding_mask(tgt)\n",
    "\n",
    "        # 对src和tgt进行编码\n",
    "        src = self.embedding(src)\n",
    "        tgt = self.embedding(tgt)\n",
    "        # 给src和tgt的token增加位置信息\n",
    "        src = self.positional_encoding(src)\n",
    "        tgt = self.positional_encoding(tgt)\n",
    "\n",
    "        # 将准备好的数据送给transformer\n",
    "        out = self.transformer(src, tgt,\n",
    "                               tgt_mask=tgt_mask,\n",
    "                               src_key_padding_mask=src_key_padding_mask,\n",
    "                               tgt_key_padding_mask=tgt_key_padding_mask)\n",
    "\n",
    "        \"\"\"\n",
    "        这里直接返回transformer的结果。因为训练和推理时的行为不一样，\n",
    "        所以在该模型外再进行线性层的预测。\n",
    "        \"\"\"\n",
    "        return out\n",
    "\n",
    "    @staticmethod\n",
    "    def get_key_padding_mask(tokens):\n",
    "        \"\"\"\n",
    "        用于key_padding_mask\n",
    "        \"\"\"\n",
    "        key_padding_mask = torch.zeros(tokens.size())\n",
    "        key_padding_mask[tokens == 2] = -torch.inf\n",
    "        return key_padding_mask"
   ]
  },
  {
   "cell_type": "code",
   "execution_count": 5,
   "id": "66a4a3fe",
   "metadata": {
    "ExecuteTime": {
     "end_time": "2023-10-03T04:19:11.328435Z",
     "start_time": "2023-10-03T04:19:11.292534Z"
    }
   },
   "outputs": [],
   "source": [
    "model = CopyTaskModel()"
   ]
  },
  {
   "cell_type": "code",
   "execution_count": 126,
   "id": "b1ebf486",
   "metadata": {
    "ExecuteTime": {
     "end_time": "2023-10-03T04:45:28.416102Z",
     "start_time": "2023-10-03T04:45:28.388177Z"
    }
   },
   "outputs": [
    {
     "name": "stdout",
     "output_type": "stream",
     "text": [
      "torch.Size([1, 13, 128])\n",
      "tensor([[[-0.2952, -0.8189, -0.2171,  ...,  1.3933,  1.8787,  1.0751],\n",
      "         [-0.5632, -0.3965,  0.8395,  ...,  0.8429,  2.5393,  0.9666],\n",
      "         [-0.7840, -1.1798, -0.9036,  ...,  0.3380,  1.7237,  0.1108],\n",
      "         ...,\n",
      "         [-0.8202,  1.1193,  0.9514,  ..., -1.3758, -1.0707, -0.6261],\n",
      "         [-0.7995,  1.0968,  0.9023,  ..., -1.3757, -1.0640, -0.7312],\n",
      "         [-0.7636,  1.0694,  0.8826,  ..., -1.3629, -1.0563, -0.7993]]],\n",
      "       grad_fn=<NativeLayerNormBackward0>)\n"
     ]
    }
   ],
   "source": [
    "src = torch.LongTensor([[0, 3, 4, 5, 6, 1, 2, 2]])\n",
    "tgt = torch.LongTensor([[3, 4, 5, 6, 3, 4, 5, 6, 1, 2, 2, 2, 2]])\n",
    "out = model(src, tgt)\n",
    "print(out.size())\n",
    "print(out)"
   ]
  },
  {
   "cell_type": "code",
   "execution_count": 7,
   "id": "5e01ce1f",
   "metadata": {
    "ExecuteTime": {
     "end_time": "2023-10-03T04:19:15.578618Z",
     "start_time": "2023-10-03T04:19:15.571639Z"
    }
   },
   "outputs": [],
   "source": [
    "criteria = nn.CrossEntropyLoss()\n",
    "optimizer = torch.optim.Adam(model.parameters(), lr=3e-4)"
   ]
  },
  {
   "cell_type": "code",
   "execution_count": 110,
   "id": "33b3f28d",
   "metadata": {
    "ExecuteTime": {
     "end_time": "2023-10-03T04:29:15.917439Z",
     "start_time": "2023-10-03T04:29:15.899488Z"
    }
   },
   "outputs": [],
   "source": [
    "def generate_random_batch(batch_size, max_length=16):\n",
    "    src = []\n",
    "    src_copy2 = []\n",
    "    for i in range(batch_size):\n",
    "        # 随机生成句子长度\n",
    "        random_len = random.randint(1, max_length - 2)\n",
    "        # 随机生成句子词汇，并在开头和结尾增加<bos>和<eos>\n",
    "        random_num = [random.randint(3, 9) for _ in range(random_len)]\n",
    "        \n",
    "        src_random_nums = [0] + random_num + [1]\n",
    "        src_copy2_random_nums = [0] + random_num * 2 + [1]\n",
    "        \n",
    "        # 如果句子长度不足max_length，进行填充\n",
    "        src_random_nums = src_random_nums + [2] * (max_length - random_len - 2)\n",
    "        src.append(src_random_nums)\n",
    "        \n",
    "        src_copy2_random_nums = src_copy2_random_nums + [2] * (max_length*2 - random_len*2 - 2)\n",
    "        src_copy2.append(src_copy2_random_nums)\n",
    "    \n",
    "    src_tensor = torch.LongTensor(src)\n",
    "    \n",
    "    src_copy2_tensor = torch.LongTensor(src_copy2)\n",
    "    \n",
    "    # tgt不要最后一个token\n",
    "    tgt = src_copy2_tensor[:, :-1]\n",
    "    \n",
    "    \n",
    "    # tgt_y不要第一个的token\n",
    "    tgt_y = src_copy2_tensor[:, 1:]\n",
    "    # 计算tgt_y，即要预测的有效token的数量\n",
    "    n_tokens = (tgt_y != 2).sum()\n",
    "\n",
    "    # 这里的n_tokens指的是我们要预测的tgt_y中有多少有效的token，后面计算loss要用\n",
    "    return src_tensor, tgt, tgt_y, n_tokens"
   ]
  },
  {
   "cell_type": "code",
   "execution_count": 143,
   "id": "d4bdfbbf",
   "metadata": {
    "ExecuteTime": {
     "end_time": "2023-10-03T06:50:06.136277Z",
     "start_time": "2023-10-03T06:50:05.977283Z"
    },
    "scrolled": true
   },
   "outputs": [
    {
     "data": {
      "text/plain": [
       "(tensor([[0, 5, 7, 3, 1, 2],\n",
       "         [0, 8, 5, 7, 1, 2]]),\n",
       " tensor([[0, 5, 7, 3, 5, 7, 3, 1, 2, 2, 2],\n",
       "         [0, 8, 5, 7, 8, 5, 7, 1, 2, 2, 2]]),\n",
       " tensor([[5, 7, 3, 5, 7, 3, 1, 2, 2, 2, 2],\n",
       "         [8, 5, 7, 8, 5, 7, 1, 2, 2, 2, 2]]),\n",
       " tensor(14))"
      ]
     },
     "execution_count": 143,
     "metadata": {},
     "output_type": "execute_result"
    }
   ],
   "source": [
    "generate_random_batch(2, max_length=6)"
   ]
  },
  {
   "cell_type": "code",
   "execution_count": 112,
   "id": "35e3d860",
   "metadata": {
    "ExecuteTime": {
     "end_time": "2023-10-03T04:29:23.722970Z",
     "start_time": "2023-10-03T04:29:23.708012Z"
    }
   },
   "outputs": [],
   "source": [
    "total_loss = 0"
   ]
  },
  {
   "cell_type": "code",
   "execution_count": 118,
   "id": "c2ee7823",
   "metadata": {
    "ExecuteTime": {
     "end_time": "2023-10-03T04:33:01.876188Z",
     "start_time": "2023-10-03T04:31:04.860695Z"
    }
   },
   "outputs": [
    {
     "name": "stdout",
     "output_type": "stream",
     "text": [
      "Step 40, total_loss: 0.2376667708158493\n",
      "Step 80, total_loss: 0.006520564667880535\n",
      "Step 120, total_loss: 0.004718097858130932\n",
      "Step 160, total_loss: 0.004160034004598856\n",
      "Step 200, total_loss: 0.0037665499839931726\n",
      "Step 240, total_loss: 0.0034146145917475224\n",
      "Step 280, total_loss: 0.002977953990921378\n",
      "Step 320, total_loss: 0.0029661322478204966\n",
      "Step 360, total_loss: 0.002745328238233924\n",
      "Step 400, total_loss: 0.002540662419050932\n",
      "Step 440, total_loss: 0.0025036060251295567\n",
      "Step 480, total_loss: 0.0023454115726053715\n",
      "Step 520, total_loss: 0.002332857111468911\n",
      "Step 560, total_loss: 0.002048691501840949\n",
      "Step 600, total_loss: 0.001919168746098876\n",
      "Step 640, total_loss: 0.0018854098161682487\n",
      "Step 680, total_loss: 0.001782771898433566\n",
      "Step 720, total_loss: 0.0017636781558394432\n",
      "Step 760, total_loss: 0.0016696611419320107\n",
      "Step 800, total_loss: 0.001660187030211091\n",
      "Step 840, total_loss: 0.001568673411384225\n",
      "Step 880, total_loss: 0.001480542472563684\n",
      "Step 920, total_loss: 0.0014961248962208629\n",
      "Step 960, total_loss: 0.0014315696898847818\n",
      "Step 1000, total_loss: 0.0014117127284407616\n",
      "Step 1040, total_loss: 0.0013468175893649459\n",
      "Step 1080, total_loss: 0.0012757920194417238\n",
      "Step 1120, total_loss: 0.0013005885994061828\n",
      "Step 1160, total_loss: 0.0011701524490490556\n",
      "Step 1200, total_loss: 0.001105529721826315\n",
      "Step 1240, total_loss: 0.0011091707274317741\n",
      "Step 1280, total_loss: 0.0011131501523777843\n",
      "Step 1320, total_loss: 0.001077994704246521\n",
      "Step 1360, total_loss: 0.0010309240315109491\n",
      "Step 1400, total_loss: 0.0009951527463272214\n",
      "Step 1440, total_loss: 0.0009700243826955557\n",
      "Step 1480, total_loss: 0.0009498991421423852\n",
      "Step 1520, total_loss: 0.0009835741948336363\n",
      "Step 1560, total_loss: 0.0009134730789810419\n",
      "Step 1600, total_loss: 0.0008608616190031171\n",
      "Step 1640, total_loss: 0.0008580686408095062\n",
      "Step 1680, total_loss: 0.0008101484272629023\n",
      "Step 1720, total_loss: 0.0008138883276842535\n",
      "Step 1760, total_loss: 0.0007839526515454054\n",
      "Step 1800, total_loss: 0.0007418826571665704\n",
      "Step 1840, total_loss: 0.000719604198820889\n",
      "Step 1880, total_loss: 0.0006742863915860653\n",
      "Step 1920, total_loss: 0.0006958890589885414\n",
      "Step 1960, total_loss: 0.0006882482557557523\n"
     ]
    }
   ],
   "source": [
    "for step in range(2000):\n",
    "    # 生成数据\n",
    "    src, tgt, tgt_y, n_tokens = generate_random_batch(batch_size=30, max_length=max_length)\n",
    "\n",
    "    # 清空梯度\n",
    "    optimizer.zero_grad()\n",
    "    # 进行transformer的计算\n",
    "    out = model(src, tgt)\n",
    "    # 将结果送给最后的线性层进行预测\n",
    "    out = model.predictor(out)\n",
    "    \"\"\"\n",
    "    计算损失。由于训练时我们的是对所有的输出都进行预测，所以需要对out进行reshape一下。\n",
    "            我们的out的Shape为(batch_size, 词数, 词典大小)，view之后变为：\n",
    "            (batch_size*词数, 词典大小)。\n",
    "            而在这些预测结果中，我们只需要对非<pad>部分进行，所以需要进行正则化。也就是\n",
    "            除以n_tokens。\n",
    "    \"\"\"\n",
    "    loss = criteria(out.contiguous().view(-1, out.size(-1)), tgt_y.contiguous().view(-1)) / n_tokens\n",
    "    # 计算梯度\n",
    "    loss.backward()\n",
    "    # 更新参数\n",
    "    optimizer.step()\n",
    "\n",
    "    total_loss += loss\n",
    "\n",
    "    # 每40次打印一下loss\n",
    "    if step != 0 and step % 40 == 0:\n",
    "        print(\"Step {}, total_loss: {}\".format(step, total_loss))\n",
    "        total_loss = 0"
   ]
  },
  {
   "cell_type": "code",
   "execution_count": 142,
   "id": "21c6dafc",
   "metadata": {
    "ExecuteTime": {
     "end_time": "2023-10-03T04:56:34.375272Z",
     "start_time": "2023-10-03T04:56:34.300471Z"
    }
   },
   "outputs": [
    {
     "name": "stdout",
     "output_type": "stream",
     "text": [
      "tensor([[0, 4, 3, 4, 6, 7, 3, 4, 4, 3, 4, 6, 7, 6, 3, 3, 7]])\n"
     ]
    }
   ],
   "source": [
    "model = model.eval()\n",
    "# 随便定义一个src\n",
    "src = torch.LongTensor([[0, 4, 3, 4, 6, 7, 3, 1, 2]])\n",
    "# tgt从<bos>开始，看看能不能重新输出src中的值\n",
    "tgt = torch.LongTensor([[0]])\n",
    "\n",
    "# 一个一个词预测，直到预测为<eos>，或者达到句子最大长度\n",
    "for i in range(max_length):\n",
    "    # 进行transformer计算\n",
    "    out = model(src, tgt)\n",
    "    \n",
    "    # 预测结果，因为只需要看最后一个词，所以取`out[:, -1]`\n",
    "    predict = model.predictor(out[:, -1])\n",
    "    # 找出最大值的index\n",
    "    y = torch.argmax(predict, dim=1)\n",
    "    # 和之前的预测结果拼接到一起\n",
    "    tgt = torch.concat([tgt, y.unsqueeze(0)], dim=1)\n",
    "\n",
    "    # 如果为<eos>，说明预测结束，跳出循环\n",
    "    if y == 1:\n",
    "        break\n",
    "print(tgt)"
   ]
  },
  {
   "cell_type": "markdown",
   "id": "1438a485",
   "metadata": {},
   "source": [
    "## 测试 transformer的输入"
   ]
  },
  {
   "cell_type": "code",
   "execution_count": 137,
   "id": "5027112a",
   "metadata": {
    "ExecuteTime": {
     "end_time": "2023-10-03T04:54:51.732333Z",
     "start_time": "2023-10-03T04:54:51.691445Z"
    }
   },
   "outputs": [
    {
     "data": {
      "text/plain": [
       "torch.Size([1, 1, 5])"
      ]
     },
     "execution_count": 137,
     "metadata": {},
     "output_type": "execute_result"
    }
   ],
   "source": [
    "# 定义transformer，模型维度为128（也就是词向量的维度）\n",
    "transformer = nn.Transformer(d_model=5, nhead=1, batch_first=True) # batch_first一定不要忘记\n",
    "\n",
    "# 定义源句子，可以想想成是 <bos> 我 爱 吃 肉 和 菜 <eos> <pad> <pad>\n",
    "src = torch.Tensor([[[0, 3, 4, 1, 2]]])\n",
    "\n",
    "# 定义目标句子，可以想想是 <bos> I like eat meat and vegetables <eos> <pad>\n",
    "tgt = torch.Tensor([[[0, 3, 4, 1, 2]]])\n",
    "\n",
    "# 将token编码后送给transformer（这里暂时不加Positional Encoding）\n",
    "outputs = transformer(src, tgt)\n",
    "\n",
    "outputs.size()"
   ]
  }
 ],
 "metadata": {
  "kernelspec": {
   "display_name": "Python 3 (ipykernel)",
   "language": "python",
   "name": "python3"
  },
  "language_info": {
   "codemirror_mode": {
    "name": "ipython",
    "version": 3
   },
   "file_extension": ".py",
   "mimetype": "text/x-python",
   "name": "python",
   "nbconvert_exporter": "python",
   "pygments_lexer": "ipython3",
   "version": "3.9.16"
  },
  "toc": {
   "base_numbering": 1,
   "nav_menu": {},
   "number_sections": true,
   "sideBar": true,
   "skip_h1_title": false,
   "title_cell": "Table of Contents",
   "title_sidebar": "Contents",
   "toc_cell": false,
   "toc_position": {},
   "toc_section_display": true,
   "toc_window_display": false
  }
 },
 "nbformat": 4,
 "nbformat_minor": 5
}
