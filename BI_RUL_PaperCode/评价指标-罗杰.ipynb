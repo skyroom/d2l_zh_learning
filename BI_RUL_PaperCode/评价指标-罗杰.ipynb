{
 "cells": [
  {
   "cell_type": "code",
   "execution_count": 2,
   "metadata": {
    "collapsed": true
   },
   "outputs": [],
   "source": [
    "import numpy\n",
    "import matplotlib.pyplot as plt\n",
    "import math\n",
    "import pandas as pd\n",
    "from keras.models import Sequential\n",
    "from keras.layers import Dense,LSTM,GRU\n",
    "from sklearn.preprocessing import MinMaxScaler\n",
    "from sklearn.metrics import mean_squared_error\n",
    "from sklearn import metrics\n",
    "import math\n",
    "import numpy as np\n",
    "\n",
    "\n",
    "\n",
    "import numpy as np\n",
    "import random\n",
    "import math\n",
    "import os\n",
    "import scipy.io\n",
    "import matplotlib.pyplot as plt\n",
    "import torch\n",
    "import torch.nn as nn\n",
    "import torch.nn.functional as F\n",
    "import torchvision\n",
    "\n",
    "\n",
    "from sklearn.preprocessing import MinMaxScaler\n",
    "from math import sqrt\n",
    "from datetime import datetime\n",
    "from math import sqrt\n",
    "from sklearn.metrics import mean_absolute_error\n",
    "from sklearn.metrics import mean_squared_error\n",
    "\n"
   ]
  },
  {
   "cell_type": "code",
   "execution_count": 3,
   "outputs": [],
   "source": [
    "import os\n",
    "import random\n",
    "# from numpy.random import seed\n",
    "# seed(1)\n",
    "import tensorflow as tf\n",
    "# tensorflow.random.set_seed(2)\n",
    "def seed_tensorflow(seed=42):\n",
    "    os.environ['PYTHONHASHSEED'] = str(seed)\n",
    "    random.seed(seed)\n",
    "    np.random.seed(seed)\n",
    "    tf.random.set_seed(seed)\n",
    "    os.environ['TF_DETERMINISTIC_OPS'] = '1' # `pip install tensorflow-determinism` first,使用与tf>2.1\n",
    "    # os.environ['TF_CUDNN_DETERMINISTIC'] = '1'\n",
    "    #session_conf = tf.compat.v1.ConfigProto(  # 应该是适合于 1.x 版本的\n",
    "    #    intra_op_parallelism_threads=1,\n",
    "    #    inter_op_parallelism_threads=1\n",
    "    #)\n",
    "    #sess = tf.compat.v1.Session(graph=tf.compat.v1.get_default_graph(), config=session_conf)\n",
    "    #tf.compat.v1.keras.backend.set_session(sess)\n",
    "seed_tensorflow(42)\n",
    "# tf.config.enable_deterministic_ops(enabled) # 官方还在做...\n",
    "# tf.config.deterministic_ops_enabled()"
   ],
   "metadata": {
    "collapsed": false,
    "pycharm": {
     "name": "#%%\n"
    }
   }
  },
  {
   "cell_type": "code",
   "execution_count": 16,
   "outputs": [
    {
     "data": {
      "text/plain": "[<matplotlib.lines.Line2D at 0x22869b2b508>]"
     },
     "execution_count": 16,
     "metadata": {},
     "output_type": "execute_result"
    },
    {
     "data": {
      "text/plain": "<Figure size 432x288 with 1 Axes>",
      "image/png": "[encoded data removed]"
     },
     "metadata": {
      "needs_background": "light"
     },
     "output_type": "display_data"
    }
   ],
   "source": [
    "predict = pd.read_csv('./result/NASA/B0005_prediction.csv')\n",
    "# predict = pd.read_csv('./result/CALCE/CS2_35_prediction.csv')\n",
    "\n",
    "Capacity = predict['Capacity']\n",
    "\n",
    "data = Capacity\n",
    "# data = pd.read_csv('./CS2_38_Capacity.csv',index_col=0)\n",
    "data = np.squeeze(data)\n",
    "\n",
    "plt.plot(data)"
   ],
   "metadata": {
    "collapsed": false,
    "pycharm": {
     "name": "#%%\n"
    }
   }
  },
  {
   "cell_type": "code",
   "execution_count": 17,
   "outputs": [],
   "source": [
    "def create_dataset(text, window_size):\n",
    "    #text:list of capacity\n",
    "    y ,x= [],[]\n",
    "    for i in range(len(text) - window_size):\n",
    "        target = text.iloc[i+window_size]\n",
    "        yangben = text.iloc[i:i+window_size]\n",
    "\n",
    "        y.append(target)\n",
    "        x.append(yangben)\n",
    "\n",
    "    return  np.array(y),np.array(x)\n"
   ],
   "metadata": {
    "collapsed": false,
    "pycharm": {
     "name": "#%%\n"
    }
   }
  },
  {
   "cell_type": "code",
   "execution_count": 18,
   "outputs": [
    {
     "name": "stdout",
     "output_type": "stream",
     "text": [
      "测试集长度： 84\n",
      "训练集维度： (78, 6)\n",
      "测试集维度： (84, 6)\n",
      "训练集维度： (78, 6, 1)\n",
      "测试集维度： (84, 6, 1)\n"
     ]
    }
   ],
   "source": [
    "look_back = 6\n",
    "train_size=int(len(data)*0.5)\n",
    "test_size = len(data)-train_size\n",
    "\n",
    "print(\"测试集长度：\",test_size)\n",
    "train, test = data.iloc[0:train_size], data.iloc[train_size-look_back:]\n",
    "\n",
    "\n",
    "train_y ,train_x= create_dataset(train, look_back)\n",
    "train_y = train_y.reshape(-1,1)\n",
    "\n",
    "test_y,test_x = create_dataset(test, look_back)\n",
    "test_y = test_y.reshape(-1,1)\n",
    "\n",
    "print(\"训练集维度：\",train_x.shape)\n",
    "print(\"测试集维度：\",test_x.shape)\n",
    "train_x = np.reshape(train_x, (train_x.shape[0], train_x.shape[1],1))\n",
    "\n",
    "test_x = np.reshape(test_x, (test_x.shape[0], train_x.shape[1],1))\n",
    "print(\"训练集维度：\",train_x.shape)\n",
    "print(\"测试集维度：\",test_x.shape)"
   ],
   "metadata": {
    "collapsed": false,
    "pycharm": {
     "name": "#%%\n"
    }
   }
  },
  {
   "cell_type": "code",
   "execution_count": 19,
   "outputs": [
    {
     "name": "stdout",
     "output_type": "stream",
     "text": [
      "(84, 1)\n",
      "(84, 1)\n"
     ]
    }
   ],
   "source": [
    "\n",
    "Pre_LSTnet_AS = predict['LSTnet_AS']\n",
    "\n",
    "\n",
    "testPredict = Pre_LSTnet_AS.iloc[train_size:]\n",
    "\n",
    "testPredict = np.array(testPredict)\n",
    "\n",
    "testPredict = testPredict.reshape(-1,1)\n",
    "\n",
    "print(testPredict.shape)\n",
    "print(test_y.shape)"
   ],
   "metadata": {
    "collapsed": false,
    "pycharm": {
     "name": "#%%\n"
    }
   }
  },
  {
   "cell_type": "code",
   "execution_count": 20,
   "outputs": [
    {
     "name": "stdout",
     "output_type": "stream",
     "text": [
      "Test Score: 0.8229 RMSE\n",
      "Test Score: 0.7127 MAE\n",
      "Test Score: 0.0001 MSE\n",
      "Test Score: 98.9497 R2\n"
     ]
    }
   ],
   "source": [
    "# 评价指标\n",
    "from sklearn.metrics import mean_absolute_error, r2_score\n",
    "from sklearn.metrics import mean_squared_error\n",
    "\n",
    "\n",
    "LSTNet_Att_IMF1_RMSE = np.sqrt(mean_squared_error(test_y, testPredict[:,0]))\n",
    "print('Test Score: %.4f RMSE' % (LSTNet_Att_IMF1_RMSE * 100))\n",
    "\n",
    "LSTNet_Att_IMF1_MAE = mean_absolute_error(test_y, testPredict[:,0])\n",
    "print('Test Score: %.4f MAE' % (LSTNet_Att_IMF1_MAE * 100))\n",
    "\n",
    "LSTNet_Att_IMF1_MSE = mean_squared_error(test_y, testPredict[:,0])\n",
    "print('Test Score: %.4f MSE' % (LSTNet_Att_IMF1_MSE))\n",
    "\n",
    "LSTNet_Att_IMF1_R2 = r2_score(test_y, testPredict[:,0])\n",
    "print('Test Score: %.4f R2' % (LSTNet_Att_IMF1_R2 * 100))\n"
   ],
   "metadata": {
    "collapsed": false,
    "pycharm": {
     "name": "#%%\n"
    }
   }
  },
  {
   "cell_type": "code",
   "execution_count": 21,
   "outputs": [
    {
     "data": {
      "text/plain": "[<matplotlib.lines.Line2D at 0x22869bc3fc8>]"
     },
     "execution_count": 21,
     "metadata": {},
     "output_type": "execute_result"
    },
    {
     "data": {
      "text/plain": "<Figure size 432x288 with 1 Axes>",
      "image/png": "[encoded data removed]"
     },
     "metadata": {
      "needs_background": "light"
     },
     "output_type": "display_data"
    }
   ],
   "source": [
    "plt.plot(Capacity,color='k',linewidth=0.8)\n",
    "plt.plot(Pre_LSTnet_AS,color='r',linestyle='-.',linewidth=1)"
   ],
   "metadata": {
    "collapsed": false,
    "pycharm": {
     "name": "#%%\n"
    }
   }
  },
  {
   "cell_type": "code",
   "execution_count": null,
   "outputs": [],
   "source": [
    "\n"
   ],
   "metadata": {
    "collapsed": false,
    "pycharm": {
     "name": "#%%\n"
    }
   }
  }
 ],
 "metadata": {
  "kernelspec": {
   "name": "pycharm-47dd89d9",
   "language": "python",
   "display_name": "PyCharm (TestVmd)"
  },
  "language_info": {
   "codemirror_mode": {
    "name": "ipython",
    "version": 2
   },
   "file_extension": ".py",
   "mimetype": "text/x-python",
   "name": "python",
   "nbconvert_exporter": "python",
   "pygments_lexer": "ipython2",
   "version": "2.7.6"
  }
 },
 "nbformat": 4,
 "nbformat_minor": 0
}