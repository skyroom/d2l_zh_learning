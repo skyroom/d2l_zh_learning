{
 "cells": [
  {
   "cell_type": "code",
   "execution_count": 7,
   "id": "a5db9344",
   "metadata": {},
   "outputs": [
    {
     "data": {
      "text/plain": [
       "(device(type='cpu'), device(type='mps'), device(type='mps', index=1))"
      ]
     },
     "execution_count": 7,
     "metadata": {},
     "output_type": "execute_result"
    }
   ],
   "source": [
    "import torch\n",
    "from torch import nn\n",
    "from d2l import torch as d2l\n",
    "\n",
    "torch.device('cpu'), torch.device('mps'), torch.device('mps:1')"
   ]
  },
  {
   "cell_type": "code",
   "execution_count": null,
   "id": "27676946",
   "metadata": {},
   "outputs": [],
   "source": []
  },
  {
   "cell_type": "code",
   "execution_count": 2,
   "id": "b5cee1b7",
   "metadata": {},
   "outputs": [
    {
     "name": "stdout",
     "output_type": "stream",
     "text": [
      "mps\n"
     ]
    }
   ],
   "source": [
    "print(torch.device('mps'))"
   ]
  },
  {
   "cell_type": "code",
   "execution_count": 6,
   "id": "5d5bbcd9",
   "metadata": {},
   "outputs": [
    {
     "data": {
      "text/plain": [
       "0"
      ]
     },
     "execution_count": 6,
     "metadata": {},
     "output_type": "execute_result"
    }
   ],
   "source": [
    "torch.cuda.device_count()"
   ]
  },
  {
   "cell_type": "code",
   "execution_count": 3,
   "id": "9cd51a8e",
   "metadata": {},
   "outputs": [
    {
     "data": {
      "text/plain": [
       "True"
      ]
     },
     "execution_count": 3,
     "metadata": {},
     "output_type": "execute_result"
    }
   ],
   "source": [
    "torch.backends.mps.is_available()"
   ]
  },
  {
   "cell_type": "code",
   "execution_count": 10,
   "id": "201e3810",
   "metadata": {},
   "outputs": [
    {
     "name": "stdout",
     "output_type": "stream",
     "text": [
      "0.33151 sec\n"
     ]
    }
   ],
   "source": [
    "timer = d2l.Timer()\n",
    "img = torch.randn(640, 10, 64, 64)\n",
    "dev = 'mps:0'\n",
    "img_dev = img.to(dev)\n",
    "conv = torch.nn.Conv2d(10,10,3).to(dev)\n",
    "conv(img_dev)\n",
    "print(f'{timer.stop():.5f} sec')"
   ]
  },
  {
   "cell_type": "code",
   "execution_count": 11,
   "id": "b11f6668",
   "metadata": {},
   "outputs": [
    {
     "name": "stdout",
     "output_type": "stream",
     "text": [
      "0.09804 sec\n"
     ]
    }
   ],
   "source": [
    "timer = d2l.Timer()\n",
    "dev = 'cpu'\n",
    "conv = torch.nn.Conv2d(10,10,3).to(dev)\n",
    "conv(img)\n",
    "print(f'{timer.stop():.5f} sec')"
   ]
  }
 ],
 "metadata": {
  "kernelspec": {
   "display_name": "Python 3 (ipykernel)",
   "language": "python",
   "name": "python3"
  },
  "language_info": {
   "codemirror_mode": {
    "name": "ipython",
    "version": 3
   },
   "file_extension": ".py",
   "mimetype": "text/x-python",
   "name": "python",
   "nbconvert_exporter": "python",
   "pygments_lexer": "ipython3",
   "version": "3.9.16"
  }
 },
 "nbformat": 4,
 "nbformat_minor": 5
}
