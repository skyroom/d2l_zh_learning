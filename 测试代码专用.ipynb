{
 "cells": [
  {
   "cell_type": "code",
   "execution_count": 1,
   "id": "c6b0c530",
   "metadata": {
    "ExecuteTime": {
     "end_time": "2023-11-13T02:19:28.883983Z",
     "start_time": "2023-11-13T02:19:21.536826Z"
    }
   },
   "outputs": [],
   "source": [
    "import torch\n",
    "import numpy as np\n",
    "from torch.autograd import Variable"
   ]
  },
  {
   "cell_type": "code",
   "execution_count": 2,
   "id": "02668c09",
   "metadata": {
    "ExecuteTime": {
     "end_time": "2023-11-13T02:19:28.899945Z",
     "start_time": "2023-11-13T02:19:28.888971Z"
    }
   },
   "outputs": [],
   "source": [
    "# N, seq_length = 50000, 400\n",
    "N, seq_length = 5, 4"
   ]
  },
  {
   "cell_type": "code",
   "execution_count": 3,
   "id": "a05be71d",
   "metadata": {
    "ExecuteTime": {
     "end_time": "2023-11-13T02:19:29.068239Z",
     "start_time": "2023-11-13T02:19:28.909919Z"
    }
   },
   "outputs": [
    {
     "data": {
      "text/plain": [
       "tensor([[[0.8570, 0.9569, 0.1505, 0.2188]],\n",
       "\n",
       "        [[0.6174, 0.6137, 0.1890, 0.2436]],\n",
       "\n",
       "        [[0.0664, 0.1445, 0.8277, 0.9541]],\n",
       "\n",
       "        [[0.6199, 0.0647, 0.4318, 0.4296]],\n",
       "\n",
       "        [[0.5215, 0.1565, 0.9277, 0.6832]]])"
      ]
     },
     "execution_count": 3,
     "metadata": {},
     "output_type": "execute_result"
    }
   ],
   "source": [
    "X_num = torch.rand([N, 1, seq_length])\n",
    "X_num"
   ]
  },
  {
   "cell_type": "code",
   "execution_count": 4,
   "id": "a371b6af",
   "metadata": {
    "ExecuteTime": {
     "end_time": "2023-11-13T02:19:29.084198Z",
     "start_time": "2023-11-13T02:19:29.070237Z"
    },
    "scrolled": true
   },
   "outputs": [
    {
     "data": {
      "text/plain": [
       "tensor([[[0., 0., 0., 0.]],\n",
       "\n",
       "        [[0., 0., 0., 0.]],\n",
       "\n",
       "        [[0., 0., 0., 0.]],\n",
       "\n",
       "        [[0., 0., 0., 0.]],\n",
       "\n",
       "        [[0., 0., 0., 0.]]])"
      ]
     },
     "execution_count": 4,
     "metadata": {},
     "output_type": "execute_result"
    }
   ],
   "source": [
    "X_mask = torch.zeros([N, 1, seq_length])\n",
    "X_mask"
   ]
  },
  {
   "cell_type": "code",
   "execution_count": 5,
   "id": "5f5baf2b",
   "metadata": {
    "ExecuteTime": {
     "end_time": "2023-11-13T02:19:29.100156Z",
     "start_time": "2023-11-13T02:19:29.087191Z"
    }
   },
   "outputs": [
    {
     "data": {
      "text/plain": [
       "tensor([[[0., 0., 1., 0.]],\n",
       "\n",
       "        [[0., 0., 0., 0.]],\n",
       "\n",
       "        [[0., 0., 0., 0.]],\n",
       "\n",
       "        [[0., 0., 0., 0.]],\n",
       "\n",
       "        [[0., 0., 0., 0.]]])"
      ]
     },
     "execution_count": 5,
     "metadata": {},
     "output_type": "execute_result"
    }
   ],
   "source": [
    "X_mask[0, 0,2] = 1\n",
    "X_mask"
   ]
  },
  {
   "cell_type": "code",
   "execution_count": 6,
   "id": "d2d7426d",
   "metadata": {
    "ExecuteTime": {
     "end_time": "2023-11-13T02:19:29.115600Z",
     "start_time": "2023-11-13T02:19:29.103148Z"
    }
   },
   "outputs": [
    {
     "data": {
      "text/plain": [
       "tensor([[0.],\n",
       "        [0.],\n",
       "        [0.],\n",
       "        [0.],\n",
       "        [0.]])"
      ]
     },
     "execution_count": 6,
     "metadata": {},
     "output_type": "execute_result"
    }
   ],
   "source": [
    "Y = torch.zeros([N, 1])\n",
    "Y"
   ]
  },
  {
   "cell_type": "code",
   "execution_count": 7,
   "id": "31f2c5a0",
   "metadata": {
    "ExecuteTime": {
     "end_time": "2023-11-13T02:19:29.130779Z",
     "start_time": "2023-11-13T02:19:29.117596Z"
    }
   },
   "outputs": [],
   "source": [
    "for i in range(N):\n",
    "    positions = np.random.choice(seq_length, size=2, replace=False)\n",
    "    X_mask[i, 0, positions[0]] = 1\n",
    "    X_mask[i, 0, positions[1]] = 1\n",
    "    Y[i,0] = X_num[i, 0, positions[0]] + X_num[i, 0, positions[1]]"
   ]
  },
  {
   "cell_type": "code",
   "execution_count": 8,
   "id": "2d2b06fa",
   "metadata": {
    "ExecuteTime": {
     "end_time": "2023-11-13T02:19:29.146740Z",
     "start_time": "2023-11-13T02:19:29.133776Z"
    }
   },
   "outputs": [
    {
     "data": {
      "text/plain": [
       "(tensor([[[1., 0., 1., 0.]],\n",
       " \n",
       "         [[1., 1., 0., 0.]],\n",
       " \n",
       "         [[0., 0., 1., 1.]],\n",
       " \n",
       "         [[1., 0., 0., 1.]],\n",
       " \n",
       "         [[1., 1., 0., 0.]]]),\n",
       " tensor([[1.0075],\n",
       "         [1.2311],\n",
       "         [1.7818],\n",
       "         [1.0495],\n",
       "         [0.6780]]))"
      ]
     },
     "execution_count": 8,
     "metadata": {},
     "output_type": "execute_result"
    }
   ],
   "source": [
    "X_mask,Y"
   ]
  },
  {
   "cell_type": "code",
   "execution_count": 10,
   "id": "c9dd1760",
   "metadata": {
    "ExecuteTime": {
     "end_time": "2023-11-13T05:50:31.861817Z",
     "start_time": "2023-11-13T05:50:31.590497Z"
    }
   },
   "outputs": [
    {
     "data": {
      "text/plain": [
       "(tensor([[[0.8570, 0.9569, 0.1505, 0.2188],\n",
       "          [1.0000, 0.0000, 1.0000, 0.0000]],\n",
       " \n",
       "         [[0.6174, 0.6137, 0.1890, 0.2436],\n",
       "          [1.0000, 1.0000, 0.0000, 0.0000]],\n",
       " \n",
       "         [[0.0664, 0.1445, 0.8277, 0.9541],\n",
       "          [0.0000, 0.0000, 1.0000, 1.0000]],\n",
       " \n",
       "         [[0.6199, 0.0647, 0.4318, 0.4296],\n",
       "          [1.0000, 0.0000, 0.0000, 1.0000]],\n",
       " \n",
       "         [[0.5215, 0.1565, 0.9277, 0.6832],\n",
       "          [1.0000, 1.0000, 0.0000, 0.0000]]]),\n",
       " tensor([[1.0075],\n",
       "         [1.2311],\n",
       "         [1.7818],\n",
       "         [1.0495],\n",
       "         [0.6780]]))"
      ]
     },
     "execution_count": 10,
     "metadata": {},
     "output_type": "execute_result"
    }
   ],
   "source": [
    "X = torch.cat((X_num, X_mask), dim=1)\n",
    "X,Y"
   ]
  },
  {
   "cell_type": "code",
   "execution_count": 1,
   "id": "f659f657",
   "metadata": {
    "ExecuteTime": {
     "end_time": "2023-11-14T02:58:22.692263Z",
     "start_time": "2023-11-14T02:58:22.671320Z"
    },
    "scrolled": true
   },
   "outputs": [
    {
     "ename": "IndentationError",
     "evalue": "unexpected indent (2366367712.py, line 3)",
     "output_type": "error",
     "traceback": [
      "\u001b[1;36m  Cell \u001b[1;32mIn[1], line 3\u001b[1;36m\u001b[0m\n\u001b[1;33m    2        [30, 30, 30, 30, 30, 30, 30, 30]       7                         0.0\u001b[0m\n\u001b[1;37m    ^\u001b[0m\n\u001b[1;31mIndentationError\u001b[0m\u001b[1;31m:\u001b[0m unexpected indent\n"
     ]
    }
   ],
   "source": [
    "add_test\n",
    "TemporalConvNet(input_size, num_channels,                      kernel_size=kernel_size, dropout=dropout)\n",
    "                 2        [30, 30, 30, 30, 30, 30, 30, 30]       7                         0.0\n",
    "输入的x为[32, 2, 400]\n",
    "\n",
    "\n",
    "\n",
    "char_cnn_test\n",
    "TemporalConvNet(input_size, num_channels, kernel_size=kernel_size, dropout=dropout)\n",
    "                   100     [450, 450, 100]      3                         0.1\n",
    "输入的x为[32, 100, 400]\n",
    "\n",
    "\n",
    "copymem_test\n",
    "TemporalConvNet(input_size, num_channels,                      kernel_size=kernel_size, dropout=dropout)\n",
    "                   1       [10, 10, 10, 10, 10, 10, 10, 10]        8                       0.0\n",
    "输入的x为[32, 1, 1020]"
   ]
  }
 ],
 "metadata": {
  "kernelspec": {
   "display_name": "Python 3 (ipykernel)",
   "language": "python",
   "name": "python3"
  },
  "language_info": {
   "codemirror_mode": {
    "name": "ipython",
    "version": 3
   },
   "file_extension": ".py",
   "mimetype": "text/x-python",
   "name": "python",
   "nbconvert_exporter": "python",
   "pygments_lexer": "ipython3",
   "version": "3.9.16"
  },
  "toc": {
   "base_numbering": 1,
   "nav_menu": {},
   "number_sections": true,
   "sideBar": true,
   "skip_h1_title": false,
   "title_cell": "Table of Contents",
   "title_sidebar": "Contents",
   "toc_cell": false,
   "toc_position": {},
   "toc_section_display": true,
   "toc_window_display": false
  }
 },
 "nbformat": 4,
 "nbformat_minor": 5
}
